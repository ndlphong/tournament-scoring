{
 "cells": [
  {
   "cell_type": "code",
   "execution_count": 10,
   "id": "9676f113",
   "metadata": {},
   "outputs": [
    {
     "name": "stdout",
     "output_type": "stream",
     "text": [
      "\n",
      "\n",
      "========== Processing c:\\Users\\Acer\\Documents\\skillbans-in-2024-main\\tournament-elo\\.vscode ==========\n",
      "Finished processing .vscode\n",
      "\n",
      "\n",
      "========== Processing c:\\Users\\Acer\\Documents\\skillbans-in-2024-main\\tournament-elo\\4 Digit osumania World Cup 2024 ==========\n"
     ]
    },
    {
     "name": "stderr",
     "output_type": "stream",
     "text": [
      "100%|██████████| 2/2 [00:00<00:00,  3.60it/s]\n"
     ]
    },
    {
     "name": "stdout",
     "output_type": "stream",
     "text": [
      "Leaderboard saved to c:\\Users\\Acer\\Documents\\skillbans-in-2024-main\\tournament-elo\\4 Digit osumania World Cup 2024\\Grand Finals_leaderboard.csv\n"
     ]
    },
    {
     "name": "stderr",
     "output_type": "stream",
     "text": [
      "100%|██████████| 4/4 [00:01<00:00,  3.67it/s]\n"
     ]
    },
    {
     "name": "stdout",
     "output_type": "stream",
     "text": [
      "Leaderboard saved to c:\\Users\\Acer\\Documents\\skillbans-in-2024-main\\tournament-elo\\4 Digit osumania World Cup 2024\\Finals_leaderboard.csv\n"
     ]
    },
    {
     "name": "stderr",
     "output_type": "stream",
     "text": [
      " 12%|█▎        | 1/8 [00:00<00:02,  3.40it/s]"
     ]
    },
    {
     "name": "stdout",
     "output_type": "stream",
     "text": [
      "Game 583274831 in match 112596915 has no scores.\n"
     ]
    },
    {
     "name": "stderr",
     "output_type": "stream",
     "text": [
      " 50%|█████     | 4/8 [00:01<00:01,  3.01it/s]"
     ]
    },
    {
     "name": "stdout",
     "output_type": "stream",
     "text": [
      "Game 583315018 in match 112603397 has no scores.\n"
     ]
    },
    {
     "name": "stderr",
     "output_type": "stream",
     "text": [
      " 75%|███████▌  | 6/8 [00:02<00:00,  2.98it/s]"
     ]
    },
    {
     "name": "stdout",
     "output_type": "stream",
     "text": [
      "Game 583423358 in match 112620235 has no scores.\n",
      "Game 583423564 in match 112620235 has no scores.\n"
     ]
    },
    {
     "name": "stderr",
     "output_type": "stream",
     "text": [
      "100%|██████████| 8/8 [00:02<00:00,  3.02it/s]\n"
     ]
    },
    {
     "name": "stdout",
     "output_type": "stream",
     "text": [
      "Leaderboard saved to c:\\Users\\Acer\\Documents\\skillbans-in-2024-main\\tournament-elo\\4 Digit osumania World Cup 2024\\Semifinals_leaderboard.csv\n"
     ]
    },
    {
     "name": "stderr",
     "output_type": "stream",
     "text": [
      "  7%|▋         | 1/15 [00:00<00:03,  3.79it/s]"
     ]
    },
    {
     "name": "stdout",
     "output_type": "stream",
     "text": [
      "Game 582652406 in match 112495854 has no scores.\n"
     ]
    },
    {
     "name": "stderr",
     "output_type": "stream",
     "text": [
      " 20%|██        | 3/15 [00:00<00:03,  3.57it/s]"
     ]
    },
    {
     "name": "stdout",
     "output_type": "stream",
     "text": [
      "Game 582684935 in match 112500995 has no scores.\n"
     ]
    },
    {
     "name": "stderr",
     "output_type": "stream",
     "text": [
      " 40%|████      | 6/15 [00:01<00:02,  3.54it/s]"
     ]
    },
    {
     "name": "stdout",
     "output_type": "stream",
     "text": [
      "Game 582695788 in match 112502560 has no scores.\n"
     ]
    },
    {
     "name": "stderr",
     "output_type": "stream",
     "text": [
      " 73%|███████▎  | 11/15 [00:03<00:01,  3.14it/s]"
     ]
    },
    {
     "name": "stdout",
     "output_type": "stream",
     "text": [
      "Game 582789718 in match 112517791 has no scores.\n"
     ]
    },
    {
     "name": "stderr",
     "output_type": "stream",
     "text": [
      "100%|██████████| 15/15 [00:04<00:00,  3.30it/s]\n"
     ]
    },
    {
     "name": "stdout",
     "output_type": "stream",
     "text": [
      "Leaderboard saved to c:\\Users\\Acer\\Documents\\skillbans-in-2024-main\\tournament-elo\\4 Digit osumania World Cup 2024\\Quarterfinals_leaderboard.csv\n"
     ]
    },
    {
     "name": "stderr",
     "output_type": "stream",
     "text": [
      " 12%|█▎        | 2/16 [00:00<00:04,  3.46it/s]"
     ]
    },
    {
     "name": "stdout",
     "output_type": "stream",
     "text": [
      "Game 582022932 in match 112394216 has no scores.\n"
     ]
    },
    {
     "name": "stderr",
     "output_type": "stream",
     "text": [
      " 38%|███▊      | 6/16 [00:01<00:02,  3.66it/s]"
     ]
    },
    {
     "name": "stdout",
     "output_type": "stream",
     "text": [
      "Game 582060552 in match 112400190 has no scores.\n"
     ]
    },
    {
     "name": "stderr",
     "output_type": "stream",
     "text": [
      " 56%|█████▋    | 9/16 [00:02<00:01,  3.68it/s]"
     ]
    },
    {
     "name": "stdout",
     "output_type": "stream",
     "text": [
      "Game 582107653 in match 112407728 has no scores.\n"
     ]
    },
    {
     "name": "stderr",
     "output_type": "stream",
     "text": [
      "100%|██████████| 16/16 [00:04<00:00,  3.37it/s]\n"
     ]
    },
    {
     "name": "stdout",
     "output_type": "stream",
     "text": [
      "Leaderboard saved to c:\\Users\\Acer\\Documents\\skillbans-in-2024-main\\tournament-elo\\4 Digit osumania World Cup 2024\\Round of 16_leaderboard.csv\n"
     ]
    },
    {
     "name": "stderr",
     "output_type": "stream",
     "text": [
      " 19%|█▉        | 3/16 [00:00<00:03,  3.29it/s]"
     ]
    },
    {
     "name": "stdout",
     "output_type": "stream",
     "text": [
      "Game 581436199 in match 112298352 has no scores.\n"
     ]
    },
    {
     "name": "stderr",
     "output_type": "stream",
     "text": [
      "100%|██████████| 16/16 [00:04<00:00,  3.51it/s]\n"
     ]
    },
    {
     "name": "stdout",
     "output_type": "stream",
     "text": [
      "Leaderboard saved to c:\\Users\\Acer\\Documents\\skillbans-in-2024-main\\tournament-elo\\4 Digit osumania World Cup 2024\\Round of 32_leaderboard.csv\n",
      "Finished processing 4 Digit osumania World Cup 2024\n",
      "\n",
      "\n",
      "========== Processing c:\\Users\\Acer\\Documents\\skillbans-in-2024-main\\tournament-elo\\4 Digit osumania World Cup 3 ==========\n"
     ]
    },
    {
     "name": "stderr",
     "output_type": "stream",
     "text": [
      "100%|██████████| 3/3 [00:00<00:00,  3.46it/s]\n"
     ]
    },
    {
     "name": "stdout",
     "output_type": "stream",
     "text": [
      "Leaderboard saved to c:\\Users\\Acer\\Documents\\skillbans-in-2024-main\\tournament-elo\\4 Digit osumania World Cup 3\\Grand Finals_leaderboard.csv\n"
     ]
    },
    {
     "name": "stderr",
     "output_type": "stream",
     "text": [
      " 75%|███████▌  | 3/4 [00:00<00:00,  3.65it/s]"
     ]
    },
    {
     "name": "stdout",
     "output_type": "stream",
     "text": [
      "Game 399215220 in match 76888297 has no scores.\n"
     ]
    },
    {
     "name": "stderr",
     "output_type": "stream",
     "text": [
      "100%|██████████| 4/4 [00:01<00:00,  3.67it/s]\n"
     ]
    },
    {
     "name": "stdout",
     "output_type": "stream",
     "text": [
      "Leaderboard saved to c:\\Users\\Acer\\Documents\\skillbans-in-2024-main\\tournament-elo\\4 Digit osumania World Cup 3\\Finals_leaderboard.csv\n"
     ]
    },
    {
     "name": "stderr",
     "output_type": "stream",
     "text": [
      " 88%|████████▊ | 7/8 [00:02<00:00,  3.34it/s]"
     ]
    },
    {
     "name": "stdout",
     "output_type": "stream",
     "text": [
      "Game 396633214 in match 76325477 has no scores.\n"
     ]
    },
    {
     "name": "stderr",
     "output_type": "stream",
     "text": [
      "100%|██████████| 8/8 [00:02<00:00,  3.45it/s]\n"
     ]
    },
    {
     "name": "stdout",
     "output_type": "stream",
     "text": [
      "Leaderboard saved to c:\\Users\\Acer\\Documents\\skillbans-in-2024-main\\tournament-elo\\4 Digit osumania World Cup 3\\Semifinals_leaderboard.csv\n"
     ]
    },
    {
     "name": "stderr",
     "output_type": "stream",
     "text": [
      " 29%|██▊       | 2/7 [00:00<00:01,  3.72it/s]"
     ]
    },
    {
     "name": "stdout",
     "output_type": "stream",
     "text": [
      "Game 393737766 in match 75672635 has no scores.\n"
     ]
    },
    {
     "name": "stderr",
     "output_type": "stream",
     "text": [
      " 43%|████▎     | 3/7 [00:00<00:01,  3.60it/s]"
     ]
    },
    {
     "name": "stdout",
     "output_type": "stream",
     "text": [
      "Game 393799673 in match 75685830 has no scores.\n"
     ]
    },
    {
     "name": "stderr",
     "output_type": "stream",
     "text": [
      " 71%|███████▏  | 5/7 [00:01<00:00,  3.17it/s]"
     ]
    },
    {
     "name": "stdout",
     "output_type": "stream",
     "text": [
      "Game 394063956 in match 75744729 has no scores.\n"
     ]
    },
    {
     "name": "stderr",
     "output_type": "stream",
     "text": [
      "100%|██████████| 7/7 [00:02<00:00,  3.22it/s]\n"
     ]
    },
    {
     "name": "stdout",
     "output_type": "stream",
     "text": [
      "Leaderboard saved to c:\\Users\\Acer\\Documents\\skillbans-in-2024-main\\tournament-elo\\4 Digit osumania World Cup 3\\Quarterfinals_leaderboard.csv\n"
     ]
    },
    {
     "name": "stderr",
     "output_type": "stream",
     "text": [
      "100%|██████████| 8/8 [00:02<00:00,  3.23it/s]\n"
     ]
    },
    {
     "name": "stdout",
     "output_type": "stream",
     "text": [
      "Leaderboard saved to c:\\Users\\Acer\\Documents\\skillbans-in-2024-main\\tournament-elo\\4 Digit osumania World Cup 3\\Round of 16_leaderboard.csv\n",
      "Finished processing 4 Digit osumania World Cup 3\n",
      "\n",
      "\n",
      "========== Processing c:\\Users\\Acer\\Documents\\skillbans-in-2024-main\\tournament-elo\\4 Digit osumania World Cup 4 ==========\n"
     ]
    },
    {
     "name": "stderr",
     "output_type": "stream",
     "text": [
      " 67%|██████▋   | 2/3 [00:00<00:00,  3.53it/s]"
     ]
    },
    {
     "name": "stdout",
     "output_type": "stream",
     "text": [
      "Game 499109656 in match 97990995 has no scores.\n"
     ]
    },
    {
     "name": "stderr",
     "output_type": "stream",
     "text": [
      "100%|██████████| 3/3 [00:00<00:00,  3.46it/s]\n"
     ]
    },
    {
     "name": "stdout",
     "output_type": "stream",
     "text": [
      "Leaderboard saved to c:\\Users\\Acer\\Documents\\skillbans-in-2024-main\\tournament-elo\\4 Digit osumania World Cup 4\\Grand Finals_leaderboard.csv\n"
     ]
    },
    {
     "name": "stderr",
     "output_type": "stream",
     "text": [
      "100%|██████████| 4/4 [00:01<00:00,  2.83it/s]\n"
     ]
    },
    {
     "name": "stdout",
     "output_type": "stream",
     "text": [
      "Leaderboard saved to c:\\Users\\Acer\\Documents\\skillbans-in-2024-main\\tournament-elo\\4 Digit osumania World Cup 4\\Finals_leaderboard.csv\n"
     ]
    },
    {
     "name": "stderr",
     "output_type": "stream",
     "text": [
      " 12%|█▎        | 1/8 [00:00<00:01,  3.54it/s]"
     ]
    },
    {
     "name": "stdout",
     "output_type": "stream",
     "text": [
      "Game 496114523 in match 97404519 has no scores.\n"
     ]
    },
    {
     "name": "stderr",
     "output_type": "stream",
     "text": [
      " 25%|██▌       | 2/8 [00:00<00:01,  3.49it/s]"
     ]
    },
    {
     "name": "stdout",
     "output_type": "stream",
     "text": [
      "Game 496133560 in match 97406407 has no scores.\n",
      "Game 496134913 in match 97406407 has no scores.\n"
     ]
    },
    {
     "name": "stderr",
     "output_type": "stream",
     "text": [
      " 38%|███▊      | 3/8 [00:00<00:01,  3.48it/s]"
     ]
    },
    {
     "name": "stdout",
     "output_type": "stream",
     "text": [
      "Game 496166201 in match 97413544 has no scores.\n"
     ]
    },
    {
     "name": "stderr",
     "output_type": "stream",
     "text": [
      "100%|██████████| 8/8 [00:02<00:00,  3.22it/s]\n"
     ]
    },
    {
     "name": "stdout",
     "output_type": "stream",
     "text": [
      "Leaderboard saved to c:\\Users\\Acer\\Documents\\skillbans-in-2024-main\\tournament-elo\\4 Digit osumania World Cup 4\\Semifinals_leaderboard.csv\n"
     ]
    },
    {
     "name": "stderr",
     "output_type": "stream",
     "text": [
      " 38%|███▊      | 6/16 [00:01<00:02,  3.52it/s]"
     ]
    },
    {
     "name": "stdout",
     "output_type": "stream",
     "text": [
      "Game 494746540 in match 97136509 has no scores.\n"
     ]
    },
    {
     "name": "stderr",
     "output_type": "stream",
     "text": [
      " 75%|███████▌  | 12/16 [00:03<00:01,  3.50it/s]"
     ]
    },
    {
     "name": "stdout",
     "output_type": "stream",
     "text": [
      "Game 494851230 in match 97158595 has no scores.\n"
     ]
    },
    {
     "name": "stderr",
     "output_type": "stream",
     "text": [
      "100%|██████████| 16/16 [00:04<00:00,  3.57it/s]\n"
     ]
    },
    {
     "name": "stdout",
     "output_type": "stream",
     "text": [
      "Leaderboard saved to c:\\Users\\Acer\\Documents\\skillbans-in-2024-main\\tournament-elo\\4 Digit osumania World Cup 4\\Quarterfinals_leaderboard.csv\n"
     ]
    },
    {
     "name": "stderr",
     "output_type": "stream",
     "text": [
      " 81%|████████▏ | 13/16 [00:03<00:00,  3.35it/s]"
     ]
    },
    {
     "name": "stdout",
     "output_type": "stream",
     "text": [
      "Game 493543991 in match 96895007 has no scores.\n",
      "Game 493551818 in match 96895007 has no scores.\n"
     ]
    },
    {
     "name": "stderr",
     "output_type": "stream",
     "text": [
      " 88%|████████▊ | 14/16 [00:04<00:00,  3.30it/s]"
     ]
    },
    {
     "name": "stdout",
     "output_type": "stream",
     "text": [
      "Game 493559422 in match 96898836 has no scores.\n",
      "Game 493564583 in match 96898836 has no scores.\n",
      "Game 493569416 in match 96898836 has no scores.\n"
     ]
    },
    {
     "name": "stderr",
     "output_type": "stream",
     "text": [
      "100%|██████████| 16/16 [00:04<00:00,  3.32it/s]\n"
     ]
    },
    {
     "name": "stdout",
     "output_type": "stream",
     "text": [
      "Leaderboard saved to c:\\Users\\Acer\\Documents\\skillbans-in-2024-main\\tournament-elo\\4 Digit osumania World Cup 4\\Round of 16_leaderboard.csv\n"
     ]
    },
    {
     "name": "stderr",
     "output_type": "stream",
     "text": [
      " 69%|██████▉   | 11/16 [00:03<00:01,  3.44it/s]"
     ]
    },
    {
     "name": "stdout",
     "output_type": "stream",
     "text": [
      "Game 491972058 in match 96580459 has no scores.\n",
      "Game 491974726 in match 96580459 has no scores.\n"
     ]
    },
    {
     "name": "stderr",
     "output_type": "stream",
     "text": [
      " 75%|███████▌  | 12/16 [00:03<00:01,  3.45it/s]"
     ]
    },
    {
     "name": "stdout",
     "output_type": "stream",
     "text": [
      "Game 491973128 in match 96581164 has no scores.\n"
     ]
    },
    {
     "name": "stderr",
     "output_type": "stream",
     "text": [
      "100%|██████████| 16/16 [00:04<00:00,  3.43it/s]"
     ]
    },
    {
     "name": "stdout",
     "output_type": "stream",
     "text": [
      "Game 492100454 in match 96605796 has no scores.\n"
     ]
    },
    {
     "name": "stderr",
     "output_type": "stream",
     "text": [
      "\n"
     ]
    },
    {
     "name": "stdout",
     "output_type": "stream",
     "text": [
      "Leaderboard saved to c:\\Users\\Acer\\Documents\\skillbans-in-2024-main\\tournament-elo\\4 Digit osumania World Cup 4\\Round of 32_leaderboard.csv\n",
      "Finished processing 4 Digit osumania World Cup 4\n",
      "\n",
      "\n",
      "========== Processing c:\\Users\\Acer\\Documents\\skillbans-in-2024-main\\tournament-elo\\GB Cup 2023 Autumn ==========\n"
     ]
    },
    {
     "name": "stderr",
     "output_type": "stream",
     "text": [
      " 60%|██████    | 3/5 [00:00<00:00,  3.43it/s]"
     ]
    },
    {
     "name": "stdout",
     "output_type": "stream",
     "text": [
      "Game 578094675 in match 111750031 has no scores.\n"
     ]
    },
    {
     "name": "stderr",
     "output_type": "stream",
     "text": [
      " 80%|████████  | 4/5 [00:01<00:00,  3.27it/s]"
     ]
    },
    {
     "name": "stdout",
     "output_type": "stream",
     "text": [
      "Game 578210897 in match 111768838 has no scores.\n"
     ]
    },
    {
     "name": "stderr",
     "output_type": "stream",
     "text": [
      "100%|██████████| 5/5 [00:01<00:00,  3.33it/s]"
     ]
    },
    {
     "name": "stdout",
     "output_type": "stream",
     "text": [
      "Game 578210897 in match 111768838 has no scores.\n"
     ]
    },
    {
     "name": "stderr",
     "output_type": "stream",
     "text": [
      "\n"
     ]
    },
    {
     "name": "stdout",
     "output_type": "stream",
     "text": [
      "Leaderboard saved to c:\\Users\\Acer\\Documents\\skillbans-in-2024-main\\tournament-elo\\GB Cup 2023 Autumn\\Grand Finals_leaderboard.csv\n"
     ]
    },
    {
     "name": "stderr",
     "output_type": "stream",
     "text": [
      " 20%|██        | 1/5 [00:00<00:01,  3.59it/s]"
     ]
    },
    {
     "name": "stdout",
     "output_type": "stream",
     "text": [
      "Game 577441563 in match 111640559 has no scores.\n"
     ]
    },
    {
     "name": "stderr",
     "output_type": "stream",
     "text": [
      " 40%|████      | 2/5 [00:00<00:00,  3.66it/s]"
     ]
    },
    {
     "name": "stdout",
     "output_type": "stream",
     "text": [
      "Game 577452808 in match 111641998 has no scores.\n"
     ]
    },
    {
     "name": "stderr",
     "output_type": "stream",
     "text": [
      " 80%|████████  | 4/5 [00:01<00:00,  3.51it/s]"
     ]
    },
    {
     "name": "stdout",
     "output_type": "stream",
     "text": [
      "Game 577561892 in match 111660935 has no scores.\n",
      "Game 577564929 in match 111660935 has no scores.\n"
     ]
    },
    {
     "name": "stderr",
     "output_type": "stream",
     "text": [
      "100%|██████████| 5/5 [00:01<00:00,  3.48it/s]\n"
     ]
    },
    {
     "name": "stdout",
     "output_type": "stream",
     "text": [
      "Leaderboard saved to c:\\Users\\Acer\\Documents\\skillbans-in-2024-main\\tournament-elo\\GB Cup 2023 Autumn\\Finals_leaderboard.csv\n"
     ]
    },
    {
     "name": "stderr",
     "output_type": "stream",
     "text": [
      "  7%|▋         | 1/15 [00:00<00:03,  3.68it/s]"
     ]
    },
    {
     "name": "stdout",
     "output_type": "stream",
     "text": [
      "Game 576716977 in match 111523293 has no scores.\n"
     ]
    },
    {
     "name": "stderr",
     "output_type": "stream",
     "text": [
      " 13%|█▎        | 2/15 [00:00<00:03,  3.26it/s]"
     ]
    },
    {
     "name": "stdout",
     "output_type": "stream",
     "text": [
      "Game 576815269 in match 111538925 has no scores.\n"
     ]
    },
    {
     "name": "stderr",
     "output_type": "stream",
     "text": [
      " 20%|██        | 3/15 [00:00<00:03,  3.25it/s]"
     ]
    },
    {
     "name": "stdout",
     "output_type": "stream",
     "text": [
      "Game 576818434 in match 111539358 has no scores.\n",
      "Game 576820191 in match 111539358 has no scores.\n"
     ]
    },
    {
     "name": "stderr",
     "output_type": "stream",
     "text": [
      " 47%|████▋     | 7/15 [00:02<00:02,  3.58it/s]"
     ]
    },
    {
     "name": "stdout",
     "output_type": "stream",
     "text": [
      "Game 576827433 in match 111540678 has no scores.\n"
     ]
    },
    {
     "name": "stderr",
     "output_type": "stream",
     "text": [
      " 53%|█████▎    | 8/15 [00:02<00:01,  3.51it/s]"
     ]
    },
    {
     "name": "stdout",
     "output_type": "stream",
     "text": [
      "Game 577031488 in match 111574511 has no scores.\n"
     ]
    },
    {
     "name": "stderr",
     "output_type": "stream",
     "text": [
      " 67%|██████▋   | 10/15 [00:02<00:01,  3.47it/s]"
     ]
    },
    {
     "name": "stdout",
     "output_type": "stream",
     "text": [
      "Game 576821435 in match 111539841 has no scores.\n"
     ]
    },
    {
     "name": "stderr",
     "output_type": "stream",
     "text": [
      "100%|██████████| 15/15 [00:04<00:00,  3.45it/s]\n"
     ]
    },
    {
     "name": "stdout",
     "output_type": "stream",
     "text": [
      "Leaderboard saved to c:\\Users\\Acer\\Documents\\skillbans-in-2024-main\\tournament-elo\\GB Cup 2023 Autumn\\Semifinals_leaderboard.csv\n"
     ]
    },
    {
     "name": "stderr",
     "output_type": "stream",
     "text": [
      "  7%|▋         | 1/14 [00:00<00:03,  3.57it/s]"
     ]
    },
    {
     "name": "stdout",
     "output_type": "stream",
     "text": [
      "Game 576227543 in match 111444281 has no scores.\n"
     ]
    },
    {
     "name": "stderr",
     "output_type": "stream",
     "text": [
      " 64%|██████▍   | 9/14 [00:02<00:01,  3.46it/s]"
     ]
    },
    {
     "name": "stdout",
     "output_type": "stream",
     "text": [
      "Game 576239617 in match 111446273 has no scores.\n"
     ]
    },
    {
     "name": "stderr",
     "output_type": "stream",
     "text": [
      "100%|██████████| 14/14 [00:04<00:00,  3.37it/s]\n"
     ]
    },
    {
     "name": "stdout",
     "output_type": "stream",
     "text": [
      "Leaderboard saved to c:\\Users\\Acer\\Documents\\skillbans-in-2024-main\\tournament-elo\\GB Cup 2023 Autumn\\Quarterfinals_leaderboard.csv\n",
      "Finished processing GB Cup 2023 Autumn\n",
      "\n",
      "\n",
      "========== Processing c:\\Users\\Acer\\Documents\\skillbans-in-2024-main\\tournament-elo\\GB Cup 2024 Spring ==========\n"
     ]
    },
    {
     "name": "stderr",
     "output_type": "stream",
     "text": [
      " 17%|█▋        | 1/6 [00:00<00:01,  3.59it/s]"
     ]
    },
    {
     "name": "stdout",
     "output_type": "stream",
     "text": [
      "Game 593042577 in match 114206454 has no scores.\n"
     ]
    },
    {
     "name": "stderr",
     "output_type": "stream",
     "text": [
      " 50%|█████     | 3/6 [00:00<00:00,  3.58it/s]"
     ]
    },
    {
     "name": "stdout",
     "output_type": "stream",
     "text": [
      "Game 593135453 in match 114221994 has no scores.\n",
      "Game 593136314 in match 114221994 has no scores.\n"
     ]
    },
    {
     "name": "stderr",
     "output_type": "stream",
     "text": [
      "100%|██████████| 6/6 [00:01<00:00,  3.50it/s]\n"
     ]
    },
    {
     "name": "stdout",
     "output_type": "stream",
     "text": [
      "Leaderboard saved to c:\\Users\\Acer\\Documents\\skillbans-in-2024-main\\tournament-elo\\GB Cup 2024 Spring\\Grand Finals_leaderboard.csv\n"
     ]
    },
    {
     "name": "stderr",
     "output_type": "stream",
     "text": [
      " 62%|██████▎   | 5/8 [00:01<00:00,  3.22it/s]"
     ]
    },
    {
     "name": "stdout",
     "output_type": "stream",
     "text": [
      "Game 592490078 in match 114113509 has no scores.\n"
     ]
    },
    {
     "name": "stderr",
     "output_type": "stream",
     "text": [
      "100%|██████████| 8/8 [00:02<00:00,  3.28it/s]\n"
     ]
    },
    {
     "name": "stdout",
     "output_type": "stream",
     "text": [
      "Leaderboard saved to c:\\Users\\Acer\\Documents\\skillbans-in-2024-main\\tournament-elo\\GB Cup 2024 Spring\\Finals_leaderboard.csv\n"
     ]
    },
    {
     "name": "stderr",
     "output_type": "stream",
     "text": [
      " 25%|██▌       | 4/16 [00:01<00:04,  2.81it/s]"
     ]
    },
    {
     "name": "stdout",
     "output_type": "stream",
     "text": [
      "Game 591931218 in match 114019877 has no scores.\n",
      "Game 591931932 in match 114019877 has no scores.\n"
     ]
    },
    {
     "name": "stderr",
     "output_type": "stream",
     "text": [
      " 31%|███▏      | 5/16 [00:01<00:03,  3.00it/s]"
     ]
    },
    {
     "name": "stdout",
     "output_type": "stream",
     "text": [
      "Game 591949346 in match 114022878 has no scores.\n"
     ]
    },
    {
     "name": "stderr",
     "output_type": "stream",
     "text": [
      " 69%|██████▉   | 11/16 [00:03<00:01,  3.42it/s]"
     ]
    },
    {
     "name": "stdout",
     "output_type": "stream",
     "text": [
      "Game 591953454 in match 114023787 has no scores.\n"
     ]
    },
    {
     "name": "stderr",
     "output_type": "stream",
     "text": [
      "100%|██████████| 16/16 [00:04<00:00,  3.41it/s]\n"
     ]
    },
    {
     "name": "stdout",
     "output_type": "stream",
     "text": [
      "Leaderboard saved to c:\\Users\\Acer\\Documents\\skillbans-in-2024-main\\tournament-elo\\GB Cup 2024 Spring\\Semifinals_leaderboard.csv\n"
     ]
    },
    {
     "name": "stderr",
     "output_type": "stream",
     "text": [
      "  3%|▎         | 1/32 [00:00<00:08,  3.45it/s]"
     ]
    },
    {
     "name": "stdout",
     "output_type": "stream",
     "text": [
      "Game 591096132 in match 113878936 has no scores.\n"
     ]
    },
    {
     "name": "stderr",
     "output_type": "stream",
     "text": [
      " 12%|█▎        | 4/32 [00:01<00:11,  2.39it/s]"
     ]
    },
    {
     "name": "stdout",
     "output_type": "stream",
     "text": [
      "Game 591377308 in match 113926261 has no scores.\n"
     ]
    },
    {
     "name": "stderr",
     "output_type": "stream",
     "text": [
      " 22%|██▏       | 7/32 [00:02<00:08,  2.93it/s]"
     ]
    },
    {
     "name": "stdout",
     "output_type": "stream",
     "text": [
      "Game 591394663 in match 113929301 has no scores.\n"
     ]
    },
    {
     "name": "stderr",
     "output_type": "stream",
     "text": [
      "100%|██████████| 32/32 [00:09<00:00,  3.37it/s]\n"
     ]
    },
    {
     "name": "stdout",
     "output_type": "stream",
     "text": [
      "Leaderboard saved to c:\\Users\\Acer\\Documents\\skillbans-in-2024-main\\tournament-elo\\GB Cup 2024 Spring\\Quarterfinals_leaderboard.csv\n",
      "Finished processing GB Cup 2024 Spring\n",
      "\n",
      "\n",
      "========== Processing c:\\Users\\Acer\\Documents\\skillbans-in-2024-main\\tournament-elo\\JHC 2024 ==========\n"
     ]
    },
    {
     "name": "stderr",
     "output_type": "stream",
     "text": [
      "100%|██████████| 2/2 [00:00<00:00,  3.57it/s]\n"
     ]
    },
    {
     "name": "stdout",
     "output_type": "stream",
     "text": [
      "Leaderboard saved to c:\\Users\\Acer\\Documents\\skillbans-in-2024-main\\tournament-elo\\JHC 2024\\Grand Finals_leaderboard.csv\n"
     ]
    },
    {
     "name": "stderr",
     "output_type": "stream",
     "text": [
      "100%|██████████| 4/4 [00:01<00:00,  3.59it/s]\n"
     ]
    },
    {
     "name": "stdout",
     "output_type": "stream",
     "text": [
      "Leaderboard saved to c:\\Users\\Acer\\Documents\\skillbans-in-2024-main\\tournament-elo\\JHC 2024\\Finals_leaderboard.csv\n"
     ]
    },
    {
     "name": "stderr",
     "output_type": "stream",
     "text": [
      "100%|██████████| 8/8 [00:02<00:00,  3.46it/s]\n"
     ]
    },
    {
     "name": "stdout",
     "output_type": "stream",
     "text": [
      "Leaderboard saved to c:\\Users\\Acer\\Documents\\skillbans-in-2024-main\\tournament-elo\\JHC 2024\\Semifinals_leaderboard.csv\n"
     ]
    },
    {
     "name": "stderr",
     "output_type": "stream",
     "text": [
      "100%|██████████| 16/16 [00:04<00:00,  3.44it/s]\n"
     ]
    },
    {
     "name": "stdout",
     "output_type": "stream",
     "text": [
      "Leaderboard saved to c:\\Users\\Acer\\Documents\\skillbans-in-2024-main\\tournament-elo\\JHC 2024\\Quarterfinals_leaderboard.csv\n"
     ]
    },
    {
     "name": "stderr",
     "output_type": "stream",
     "text": [
      "100%|██████████| 16/16 [00:04<00:00,  3.55it/s]\n"
     ]
    },
    {
     "name": "stdout",
     "output_type": "stream",
     "text": [
      "Leaderboard saved to c:\\Users\\Acer\\Documents\\skillbans-in-2024-main\\tournament-elo\\JHC 2024\\Round of 16_leaderboard.csv\n"
     ]
    },
    {
     "name": "stderr",
     "output_type": "stream",
     "text": [
      " 67%|██████▋   | 20/30 [00:05<00:02,  3.70it/s]"
     ]
    },
    {
     "name": "stdout",
     "output_type": "stream",
     "text": [
      "Game 582676538 in match 112499586 has no scores.\n"
     ]
    },
    {
     "name": "stderr",
     "output_type": "stream",
     "text": [
      "100%|██████████| 30/30 [00:08<00:00,  3.51it/s]\n"
     ]
    },
    {
     "name": "stdout",
     "output_type": "stream",
     "text": [
      "Leaderboard saved to c:\\Users\\Acer\\Documents\\skillbans-in-2024-main\\tournament-elo\\JHC 2024\\Round of 32_leaderboard.csv\n",
      "Finished processing JHC 2024\n",
      "\n",
      "\n",
      "========== Processing c:\\Users\\Acer\\Documents\\skillbans-in-2024-main\\tournament-elo\\osumania 4K Chinese National Cup 2022 ==========\n"
     ]
    },
    {
     "name": "stderr",
     "output_type": "stream",
     "text": [
      "100%|██████████| 2/2 [00:00<00:00,  3.56it/s]\n"
     ]
    },
    {
     "name": "stdout",
     "output_type": "stream",
     "text": [
      "Leaderboard saved to c:\\Users\\Acer\\Documents\\skillbans-in-2024-main\\tournament-elo\\osumania 4K Chinese National Cup 2022\\Grand Finals_leaderboard.csv\n"
     ]
    },
    {
     "name": "stderr",
     "output_type": "stream",
     "text": [
      "100%|██████████| 3/3 [00:00<00:00,  3.51it/s]\n"
     ]
    },
    {
     "name": "stdout",
     "output_type": "stream",
     "text": [
      "Leaderboard saved to c:\\Users\\Acer\\Documents\\skillbans-in-2024-main\\tournament-elo\\osumania 4K Chinese National Cup 2022\\Finals_leaderboard.csv\n"
     ]
    },
    {
     "name": "stderr",
     "output_type": "stream",
     "text": [
      " 43%|████▎     | 3/7 [00:00<00:01,  3.44it/s]"
     ]
    },
    {
     "name": "stdout",
     "output_type": "stream",
     "text": [
      "Game 525983158 in match 102862511 has no scores.\n"
     ]
    },
    {
     "name": "stderr",
     "output_type": "stream",
     "text": [
      "100%|██████████| 7/7 [00:02<00:00,  3.07it/s]\n"
     ]
    },
    {
     "name": "stdout",
     "output_type": "stream",
     "text": [
      "Leaderboard saved to c:\\Users\\Acer\\Documents\\skillbans-in-2024-main\\tournament-elo\\osumania 4K Chinese National Cup 2022\\Semifinals_leaderboard.csv\n"
     ]
    },
    {
     "name": "stderr",
     "output_type": "stream",
     "text": [
      " 20%|██        | 3/15 [00:01<00:05,  2.26it/s]"
     ]
    },
    {
     "name": "stdout",
     "output_type": "stream",
     "text": [
      "Game 524788000 in match 102653162 has no scores.\n"
     ]
    },
    {
     "name": "stderr",
     "output_type": "stream",
     "text": [
      " 47%|████▋     | 7/15 [00:02<00:02,  3.17it/s]"
     ]
    },
    {
     "name": "stdout",
     "output_type": "stream",
     "text": [
      "Game 524919819 in match 102676329 has no scores.\n"
     ]
    },
    {
     "name": "stderr",
     "output_type": "stream",
     "text": [
      "100%|██████████| 15/15 [00:04<00:00,  3.03it/s]"
     ]
    },
    {
     "name": "stdout",
     "output_type": "stream",
     "text": [
      "Game 525092326 in match 102705934 has no scores.\n"
     ]
    },
    {
     "name": "stderr",
     "output_type": "stream",
     "text": [
      "\n"
     ]
    },
    {
     "name": "stdout",
     "output_type": "stream",
     "text": [
      "Leaderboard saved to c:\\Users\\Acer\\Documents\\skillbans-in-2024-main\\tournament-elo\\osumania 4K Chinese National Cup 2022\\Quarterfinals_leaderboard.csv\n"
     ]
    },
    {
     "name": "stderr",
     "output_type": "stream",
     "text": [
      "  4%|▍         | 1/25 [00:00<00:06,  3.66it/s]"
     ]
    },
    {
     "name": "stdout",
     "output_type": "stream",
     "text": [
      "Game 523709656 in match 102466607 has no scores.\n"
     ]
    },
    {
     "name": "stderr",
     "output_type": "stream",
     "text": [
      " 32%|███▏      | 8/25 [00:02<00:04,  3.51it/s]"
     ]
    },
    {
     "name": "stdout",
     "output_type": "stream",
     "text": [
      "Game 523851760 in match 102491447 has no scores.\n"
     ]
    },
    {
     "name": "stderr",
     "output_type": "stream",
     "text": [
      " 44%|████▍     | 11/25 [00:03<00:04,  3.49it/s]"
     ]
    },
    {
     "name": "stdout",
     "output_type": "stream",
     "text": [
      "Game 523871757 in match 102495091 has no scores.\n",
      "Game 523872391 in match 102495091 has no scores.\n"
     ]
    },
    {
     "name": "stderr",
     "output_type": "stream",
     "text": [
      "100%|██████████| 25/25 [00:07<00:00,  3.53it/s]\n"
     ]
    },
    {
     "name": "stdout",
     "output_type": "stream",
     "text": [
      "Leaderboard saved to c:\\Users\\Acer\\Documents\\skillbans-in-2024-main\\tournament-elo\\osumania 4K Chinese National Cup 2022\\Round of 16_leaderboard.csv\n"
     ]
    },
    {
     "name": "stderr",
     "output_type": "stream",
     "text": [
      " 62%|██████▎   | 15/24 [00:04<00:02,  3.47it/s]"
     ]
    },
    {
     "name": "stdout",
     "output_type": "stream",
     "text": [
      "Game 522959575 in match 102334353 has no scores.\n"
     ]
    },
    {
     "name": "stderr",
     "output_type": "stream",
     "text": [
      "100%|██████████| 24/24 [00:06<00:00,  3.54it/s]\n"
     ]
    },
    {
     "name": "stdout",
     "output_type": "stream",
     "text": [
      "Leaderboard saved to c:\\Users\\Acer\\Documents\\skillbans-in-2024-main\\tournament-elo\\osumania 4K Chinese National Cup 2022\\Round of 32_leaderboard.csv\n",
      "Finished processing osumania 4K Chinese National Cup 2022\n",
      "\n",
      "\n",
      "========== Processing c:\\Users\\Acer\\Documents\\skillbans-in-2024-main\\tournament-elo\\osumania 4K Chinese National Cup 2023 ==========\n"
     ]
    },
    {
     "name": "stderr",
     "output_type": "stream",
     "text": [
      "100%|██████████| 3/3 [00:00<00:00,  3.53it/s]\n"
     ]
    },
    {
     "name": "stdout",
     "output_type": "stream",
     "text": [
      "Leaderboard saved to c:\\Users\\Acer\\Documents\\skillbans-in-2024-main\\tournament-elo\\osumania 4K Chinese National Cup 2023\\Grand Finals_leaderboard.csv\n"
     ]
    },
    {
     "name": "stderr",
     "output_type": "stream",
     "text": [
      " 25%|██▌       | 1/4 [00:00<00:00,  3.62it/s]"
     ]
    },
    {
     "name": "stdout",
     "output_type": "stream",
     "text": [
      "Game 567070986 in match 109941331 has no scores.\n"
     ]
    },
    {
     "name": "stderr",
     "output_type": "stream",
     "text": [
      "100%|██████████| 4/4 [00:01<00:00,  3.10it/s]\n"
     ]
    },
    {
     "name": "stdout",
     "output_type": "stream",
     "text": [
      "Leaderboard saved to c:\\Users\\Acer\\Documents\\skillbans-in-2024-main\\tournament-elo\\osumania 4K Chinese National Cup 2023\\Finals_leaderboard.csv\n"
     ]
    },
    {
     "name": "stderr",
     "output_type": "stream",
     "text": [
      " 88%|████████▊ | 7/8 [00:02<00:00,  3.38it/s]"
     ]
    },
    {
     "name": "stdout",
     "output_type": "stream",
     "text": [
      "Game 566612559 in match 109865608 has no scores.\n"
     ]
    },
    {
     "name": "stderr",
     "output_type": "stream",
     "text": [
      "100%|██████████| 8/8 [00:02<00:00,  3.18it/s]\n"
     ]
    },
    {
     "name": "stdout",
     "output_type": "stream",
     "text": [
      "Leaderboard saved to c:\\Users\\Acer\\Documents\\skillbans-in-2024-main\\tournament-elo\\osumania 4K Chinese National Cup 2023\\Semifinals_leaderboard.csv\n"
     ]
    },
    {
     "name": "stderr",
     "output_type": "stream",
     "text": [
      " 19%|█▉        | 3/16 [00:00<00:03,  3.55it/s]"
     ]
    },
    {
     "name": "stdout",
     "output_type": "stream",
     "text": [
      "Game 565723759 in match 109717704 has no scores.\n"
     ]
    },
    {
     "name": "stderr",
     "output_type": "stream",
     "text": [
      " 44%|████▍     | 7/16 [00:01<00:02,  3.70it/s]"
     ]
    },
    {
     "name": "stdout",
     "output_type": "stream",
     "text": [
      "Game 565814058 in match 109732984 has no scores.\n"
     ]
    },
    {
     "name": "stderr",
     "output_type": "stream",
     "text": [
      "100%|██████████| 16/16 [00:04<00:00,  3.62it/s]\n"
     ]
    },
    {
     "name": "stdout",
     "output_type": "stream",
     "text": [
      "Leaderboard saved to c:\\Users\\Acer\\Documents\\skillbans-in-2024-main\\tournament-elo\\osumania 4K Chinese National Cup 2023\\Quarterfinals_leaderboard.csv\n"
     ]
    },
    {
     "name": "stderr",
     "output_type": "stream",
     "text": [
      " 13%|█▎        | 3/23 [00:00<00:05,  3.72it/s]"
     ]
    },
    {
     "name": "stdout",
     "output_type": "stream",
     "text": [
      "Game 562984336 in match 109261875 has no scores.\n"
     ]
    },
    {
     "name": "stderr",
     "output_type": "stream",
     "text": [
      " 30%|███       | 7/23 [00:02<00:05,  2.93it/s]"
     ]
    },
    {
     "name": "stdout",
     "output_type": "stream",
     "text": [
      "Game 562998594 in match 109264222 has no scores.\n"
     ]
    },
    {
     "name": "stderr",
     "output_type": "stream",
     "text": [
      " 70%|██████▉   | 16/23 [00:04<00:01,  3.59it/s]"
     ]
    },
    {
     "name": "stdout",
     "output_type": "stream",
     "text": [
      "Game 563095047 in match 109280359 has no scores.\n"
     ]
    },
    {
     "name": "stderr",
     "output_type": "stream",
     "text": [
      "100%|██████████| 23/23 [00:06<00:00,  3.46it/s]\n"
     ]
    },
    {
     "name": "stdout",
     "output_type": "stream",
     "text": [
      "Leaderboard saved to c:\\Users\\Acer\\Documents\\skillbans-in-2024-main\\tournament-elo\\osumania 4K Chinese National Cup 2023\\Play-off 1_leaderboard.csv\n"
     ]
    },
    {
     "name": "stderr",
     "output_type": "stream",
     "text": [
      "  4%|▍         | 1/24 [00:00<00:06,  3.70it/s]"
     ]
    },
    {
     "name": "stdout",
     "output_type": "stream",
     "text": [
      "Game 563557289 in match 109356786 has no scores.\n"
     ]
    },
    {
     "name": "stderr",
     "output_type": "stream",
     "text": [
      " 62%|██████▎   | 15/24 [00:04<00:02,  3.55it/s]"
     ]
    },
    {
     "name": "stdout",
     "output_type": "stream",
     "text": [
      "Game 563756896 in match 109390336 has no scores.\n"
     ]
    },
    {
     "name": "stderr",
     "output_type": "stream",
     "text": [
      " 96%|█████████▌| 23/24 [00:06<00:00,  3.68it/s]"
     ]
    },
    {
     "name": "stdout",
     "output_type": "stream",
     "text": [
      "Game 563862521 in match 109407599 has no scores.\n"
     ]
    },
    {
     "name": "stderr",
     "output_type": "stream",
     "text": [
      "100%|██████████| 24/24 [00:06<00:00,  3.47it/s]\n"
     ]
    },
    {
     "name": "stdout",
     "output_type": "stream",
     "text": [
      "Leaderboard saved to c:\\Users\\Acer\\Documents\\skillbans-in-2024-main\\tournament-elo\\osumania 4K Chinese National Cup 2023\\Play-off 2_leaderboard.csv\n"
     ]
    },
    {
     "name": "stderr",
     "output_type": "stream",
     "text": [
      "100%|██████████| 16/16 [00:04<00:00,  3.50it/s]\n"
     ]
    },
    {
     "name": "stdout",
     "output_type": "stream",
     "text": [
      "Leaderboard saved to c:\\Users\\Acer\\Documents\\skillbans-in-2024-main\\tournament-elo\\osumania 4K Chinese National Cup 2023\\Round of 16_leaderboard.csv\n"
     ]
    },
    {
     "name": "stderr",
     "output_type": "stream",
     "text": [
      "  6%|▋         | 1/16 [00:00<00:04,  3.56it/s]"
     ]
    },
    {
     "name": "stdout",
     "output_type": "stream",
     "text": [
      "Game 564344590 in match 109488094 has no scores.\n"
     ]
    },
    {
     "name": "stderr",
     "output_type": "stream",
     "text": [
      " 69%|██████▉   | 11/16 [00:03<00:01,  3.57it/s]"
     ]
    },
    {
     "name": "stdout",
     "output_type": "stream",
     "text": [
      "Game 564461772 in match 109507559 has no scores.\n"
     ]
    },
    {
     "name": "stderr",
     "output_type": "stream",
     "text": [
      "100%|██████████| 16/16 [00:04<00:00,  3.53it/s]\n"
     ]
    },
    {
     "name": "stdout",
     "output_type": "stream",
     "text": [
      "Game 564572411 in match 109525661 has no scores.\n",
      "Leaderboard saved to c:\\Users\\Acer\\Documents\\skillbans-in-2024-main\\tournament-elo\\osumania 4K Chinese National Cup 2023\\Round of 32_leaderboard.csv\n",
      "Finished processing osumania 4K Chinese National Cup 2023\n",
      "\n",
      "\n",
      "========== Processing c:\\Users\\Acer\\Documents\\skillbans-in-2024-main\\tournament-elo\\osumania 4K Chinese National Cup 2024 ==========\n"
     ]
    },
    {
     "name": "stderr",
     "output_type": "stream",
     "text": [
      "100%|██████████| 2/2 [00:00<00:00,  3.48it/s]\n"
     ]
    },
    {
     "name": "stdout",
     "output_type": "stream",
     "text": [
      "Leaderboard saved to c:\\Users\\Acer\\Documents\\skillbans-in-2024-main\\tournament-elo\\osumania 4K Chinese National Cup 2024\\Grand Finals_leaderboard.csv\n"
     ]
    },
    {
     "name": "stderr",
     "output_type": "stream",
     "text": [
      "100%|██████████| 4/4 [00:01<00:00,  3.56it/s]\n"
     ]
    },
    {
     "name": "stdout",
     "output_type": "stream",
     "text": [
      "Leaderboard saved to c:\\Users\\Acer\\Documents\\skillbans-in-2024-main\\tournament-elo\\osumania 4K Chinese National Cup 2024\\Finals_leaderboard.csv\n"
     ]
    },
    {
     "name": "stderr",
     "output_type": "stream",
     "text": [
      "100%|██████████| 8/8 [00:02<00:00,  3.50it/s]\n"
     ]
    },
    {
     "name": "stdout",
     "output_type": "stream",
     "text": [
      "Leaderboard saved to c:\\Users\\Acer\\Documents\\skillbans-in-2024-main\\tournament-elo\\osumania 4K Chinese National Cup 2024\\Semifinals_leaderboard.csv\n"
     ]
    },
    {
     "name": "stderr",
     "output_type": "stream",
     "text": [
      " 12%|█▎        | 2/16 [00:00<00:04,  3.46it/s]"
     ]
    },
    {
     "name": "stdout",
     "output_type": "stream",
     "text": [
      "Game 596553205 in match 114792193 has no scores.\n"
     ]
    },
    {
     "name": "stderr",
     "output_type": "stream",
     "text": [
      " 44%|████▍     | 7/16 [00:02<00:03,  2.91it/s]"
     ]
    },
    {
     "name": "stdout",
     "output_type": "stream",
     "text": [
      "Game 596709901 in match 114818618 has no scores.\n"
     ]
    },
    {
     "name": "stderr",
     "output_type": "stream",
     "text": [
      " 69%|██████▉   | 11/16 [00:03<00:01,  3.26it/s]"
     ]
    },
    {
     "name": "stdout",
     "output_type": "stream",
     "text": [
      "Game 596790721 in match 114831874 has no scores.\n"
     ]
    },
    {
     "name": "stderr",
     "output_type": "stream",
     "text": [
      "100%|██████████| 16/16 [00:05<00:00,  3.09it/s]"
     ]
    },
    {
     "name": "stdout",
     "output_type": "stream",
     "text": [
      "Game 596893348 in match 114848766 has no scores.\n"
     ]
    },
    {
     "name": "stderr",
     "output_type": "stream",
     "text": [
      "\n"
     ]
    },
    {
     "name": "stdout",
     "output_type": "stream",
     "text": [
      "Leaderboard saved to c:\\Users\\Acer\\Documents\\skillbans-in-2024-main\\tournament-elo\\osumania 4K Chinese National Cup 2024\\Quarterfinals_leaderboard.csv\n"
     ]
    },
    {
     "name": "stderr",
     "output_type": "stream",
     "text": [
      "100%|██████████| 8/8 [00:02<00:00,  3.65it/s]\n"
     ]
    },
    {
     "name": "stdout",
     "output_type": "stream",
     "text": [
      "Leaderboard saved to c:\\Users\\Acer\\Documents\\skillbans-in-2024-main\\tournament-elo\\osumania 4K Chinese National Cup 2024\\Play-off 1_leaderboard.csv\n"
     ]
    },
    {
     "name": "stderr",
     "output_type": "stream",
     "text": [
      " 17%|█▋        | 4/24 [00:01<00:06,  3.23it/s]"
     ]
    },
    {
     "name": "stdout",
     "output_type": "stream",
     "text": [
      "Game 595180161 in match 114564373 has no scores.\n"
     ]
    },
    {
     "name": "stderr",
     "output_type": "stream",
     "text": [
      " 75%|███████▌  | 18/24 [00:05<00:01,  3.54it/s]"
     ]
    },
    {
     "name": "stdout",
     "output_type": "stream",
     "text": [
      "Game 595267677 in match 114578837 has no scores.\n"
     ]
    },
    {
     "name": "stderr",
     "output_type": "stream",
     "text": [
      "100%|██████████| 24/24 [00:07<00:00,  3.39it/s]\n"
     ]
    },
    {
     "name": "stdout",
     "output_type": "stream",
     "text": [
      "Leaderboard saved to c:\\Users\\Acer\\Documents\\skillbans-in-2024-main\\tournament-elo\\osumania 4K Chinese National Cup 2024\\Play-off 2_leaderboard.csv\n"
     ]
    },
    {
     "name": "stderr",
     "output_type": "stream",
     "text": [
      " 31%|███▏      | 5/16 [00:01<00:03,  3.47it/s]"
     ]
    },
    {
     "name": "stdout",
     "output_type": "stream",
     "text": [
      "Game 596249690 in match 114741783 has no scores.\n"
     ]
    },
    {
     "name": "stderr",
     "output_type": "stream",
     "text": [
      " 62%|██████▎   | 10/16 [00:02<00:01,  3.49it/s]"
     ]
    },
    {
     "name": "stdout",
     "output_type": "stream",
     "text": [
      "Game 596319902 in match 114753219 has no scores.\n"
     ]
    },
    {
     "name": "stderr",
     "output_type": "stream",
     "text": [
      " 69%|██████▉   | 11/16 [00:03<00:01,  3.39it/s]"
     ]
    },
    {
     "name": "stdout",
     "output_type": "stream",
     "text": [
      "Game 596321892 in match 114753639 has no scores.\n"
     ]
    },
    {
     "name": "stderr",
     "output_type": "stream",
     "text": [
      "100%|██████████| 16/16 [00:04<00:00,  3.46it/s]\n"
     ]
    },
    {
     "name": "stdout",
     "output_type": "stream",
     "text": [
      "Leaderboard saved to c:\\Users\\Acer\\Documents\\skillbans-in-2024-main\\tournament-elo\\osumania 4K Chinese National Cup 2024\\Round of 16_leaderboard.csv\n"
     ]
    },
    {
     "name": "stderr",
     "output_type": "stream",
     "text": [
      "100%|██████████| 16/16 [00:04<00:00,  3.62it/s]\n"
     ]
    },
    {
     "name": "stdout",
     "output_type": "stream",
     "text": [
      "Leaderboard saved to c:\\Users\\Acer\\Documents\\skillbans-in-2024-main\\tournament-elo\\osumania 4K Chinese National Cup 2024\\Round of 32_leaderboard.csv\n",
      "Finished processing osumania 4K Chinese National Cup 2024\n",
      "\n",
      "\n",
      "========== Processing c:\\Users\\Acer\\Documents\\skillbans-in-2024-main\\tournament-elo\\osumania 4K Indonesia Cup 2022 ==========\n"
     ]
    },
    {
     "name": "stderr",
     "output_type": "stream",
     "text": [
      " 33%|███▎      | 1/3 [00:00<00:00,  3.28it/s]"
     ]
    },
    {
     "name": "stdout",
     "output_type": "stream",
     "text": [
      "Game 527923203 in match 103203535 has no scores.\n"
     ]
    },
    {
     "name": "stderr",
     "output_type": "stream",
     "text": [
      "100%|██████████| 3/3 [00:00<00:00,  3.16it/s]"
     ]
    },
    {
     "name": "stdout",
     "output_type": "stream",
     "text": [
      "Game 528084338 in match 103230619 has no scores.\n"
     ]
    },
    {
     "name": "stderr",
     "output_type": "stream",
     "text": [
      "\n"
     ]
    },
    {
     "name": "stdout",
     "output_type": "stream",
     "text": [
      "Leaderboard saved to c:\\Users\\Acer\\Documents\\skillbans-in-2024-main\\tournament-elo\\osumania 4K Indonesia Cup 2022\\Grand Finals_leaderboard.csv\n"
     ]
    },
    {
     "name": "stderr",
     "output_type": "stream",
     "text": [
      "100%|██████████| 3/3 [00:00<00:00,  3.47it/s]\n"
     ]
    },
    {
     "name": "stdout",
     "output_type": "stream",
     "text": [
      "Leaderboard saved to c:\\Users\\Acer\\Documents\\skillbans-in-2024-main\\tournament-elo\\osumania 4K Indonesia Cup 2022\\Finals_leaderboard.csv\n"
     ]
    },
    {
     "name": "stderr",
     "output_type": "stream",
     "text": [
      " 62%|██████▎   | 5/8 [00:01<00:00,  3.38it/s]"
     ]
    },
    {
     "name": "stdout",
     "output_type": "stream",
     "text": [
      "Game 524954543 in match 102681495 has no scores.\n"
     ]
    },
    {
     "name": "stderr",
     "output_type": "stream",
     "text": [
      "100%|██████████| 8/8 [00:02<00:00,  3.50it/s]\n"
     ]
    },
    {
     "name": "stdout",
     "output_type": "stream",
     "text": [
      "Leaderboard saved to c:\\Users\\Acer\\Documents\\skillbans-in-2024-main\\tournament-elo\\osumania 4K Indonesia Cup 2022\\Semifinals_leaderboard.csv\n"
     ]
    },
    {
     "name": "stderr",
     "output_type": "stream",
     "text": [
      " 25%|██▌       | 3/12 [00:00<00:02,  3.26it/s]"
     ]
    },
    {
     "name": "stdout",
     "output_type": "stream",
     "text": [
      "Game 523869711 in match 102494121 has no scores.\n"
     ]
    },
    {
     "name": "stderr",
     "output_type": "stream",
     "text": [
      " 75%|███████▌  | 9/12 [00:02<00:00,  3.44it/s]"
     ]
    },
    {
     "name": "stdout",
     "output_type": "stream",
     "text": [
      "Game 524022282 in match 102520250 has no scores.\n"
     ]
    },
    {
     "name": "stderr",
     "output_type": "stream",
     "text": [
      "100%|██████████| 12/12 [00:03<00:00,  3.38it/s]\n"
     ]
    },
    {
     "name": "stdout",
     "output_type": "stream",
     "text": [
      "Leaderboard saved to c:\\Users\\Acer\\Documents\\skillbans-in-2024-main\\tournament-elo\\osumania 4K Indonesia Cup 2022\\Quarterfinals_leaderboard.csv\n"
     ]
    },
    {
     "name": "stderr",
     "output_type": "stream",
     "text": [
      "100%|██████████| 9/9 [00:02<00:00,  3.52it/s]\n"
     ]
    },
    {
     "name": "stdout",
     "output_type": "stream",
     "text": [
      "Leaderboard saved to c:\\Users\\Acer\\Documents\\skillbans-in-2024-main\\tournament-elo\\osumania 4K Indonesia Cup 2022\\Round of 16_leaderboard.csv\n"
     ]
    },
    {
     "name": "stderr",
     "output_type": "stream",
     "text": [
      "100%|██████████| 9/9 [00:02<00:00,  3.15it/s]\n"
     ]
    },
    {
     "name": "stdout",
     "output_type": "stream",
     "text": [
      "Leaderboard saved to c:\\Users\\Acer\\Documents\\skillbans-in-2024-main\\tournament-elo\\osumania 4K Indonesia Cup 2022\\Round of 32_leaderboard.csv\n",
      "Finished processing osumania 4K Indonesia Cup 2022\n",
      "\n",
      "\n",
      "========== Processing c:\\Users\\Acer\\Documents\\skillbans-in-2024-main\\tournament-elo\\osumania 4K World Cup 2021 ==========\n"
     ]
    },
    {
     "name": "stderr",
     "output_type": "stream",
     "text": [
      " 33%|███▎      | 2/6 [00:00<00:01,  3.55it/s]"
     ]
    },
    {
     "name": "stdout",
     "output_type": "stream",
     "text": [
      "Game 465392512 in match 91184243 has no scores.\n"
     ]
    },
    {
     "name": "stderr",
     "output_type": "stream",
     "text": [
      "100%|██████████| 6/6 [00:01<00:00,  3.49it/s]"
     ]
    },
    {
     "name": "stdout",
     "output_type": "stream",
     "text": [
      "Game 463616873 in match 90818556 has no scores.\n"
     ]
    },
    {
     "name": "stderr",
     "output_type": "stream",
     "text": [
      "\n"
     ]
    },
    {
     "name": "stdout",
     "output_type": "stream",
     "text": [
      "Leaderboard saved to c:\\Users\\Acer\\Documents\\skillbans-in-2024-main\\tournament-elo\\osumania 4K World Cup 2021\\Finals_leaderboard.csv\n"
     ]
    },
    {
     "name": "stderr",
     "output_type": "stream",
     "text": [
      " 25%|██▌       | 2/8 [00:00<00:01,  3.22it/s]"
     ]
    },
    {
     "name": "stdout",
     "output_type": "stream",
     "text": [
      "Game 461422301 in match 90368430 has no scores.\n"
     ]
    },
    {
     "name": "stderr",
     "output_type": "stream",
     "text": [
      " 75%|███████▌  | 6/8 [00:01<00:00,  3.45it/s]"
     ]
    },
    {
     "name": "stdout",
     "output_type": "stream",
     "text": [
      "Game 461646620 in match 90411906 has no scores.\n"
     ]
    },
    {
     "name": "stderr",
     "output_type": "stream",
     "text": [
      "100%|██████████| 8/8 [00:02<00:00,  3.10it/s]\n"
     ]
    },
    {
     "name": "stdout",
     "output_type": "stream",
     "text": [
      "Leaderboard saved to c:\\Users\\Acer\\Documents\\skillbans-in-2024-main\\tournament-elo\\osumania 4K World Cup 2021\\Semifinals_leaderboard.csv\n"
     ]
    },
    {
     "name": "stderr",
     "output_type": "stream",
     "text": [
      " 27%|██▋       | 4/15 [00:01<00:03,  3.64it/s]"
     ]
    },
    {
     "name": "stdout",
     "output_type": "stream",
     "text": [
      "Game 459621817 in match 90006670 has no scores.\n"
     ]
    },
    {
     "name": "stderr",
     "output_type": "stream",
     "text": [
      " 67%|██████▋   | 10/15 [00:02<00:01,  3.53it/s]"
     ]
    },
    {
     "name": "stdout",
     "output_type": "stream",
     "text": [
      "Game 459871645 in match 90056452 has no scores.\n"
     ]
    },
    {
     "name": "stderr",
     "output_type": "stream",
     "text": [
      "100%|██████████| 15/15 [00:04<00:00,  3.28it/s]"
     ]
    },
    {
     "name": "stdout",
     "output_type": "stream",
     "text": [
      "Game 459974442 in match 90076136 has no scores.\n"
     ]
    },
    {
     "name": "stderr",
     "output_type": "stream",
     "text": [
      "\n"
     ]
    },
    {
     "name": "stdout",
     "output_type": "stream",
     "text": [
      "Leaderboard saved to c:\\Users\\Acer\\Documents\\skillbans-in-2024-main\\tournament-elo\\osumania 4K World Cup 2021\\Quarterfinals_leaderboard.csv\n"
     ]
    },
    {
     "name": "stderr",
     "output_type": "stream",
     "text": [
      "  6%|▋         | 1/16 [00:00<00:04,  3.38it/s]"
     ]
    },
    {
     "name": "stdout",
     "output_type": "stream",
     "text": [
      "Game 457683615 in match 89609443 has no scores.\n"
     ]
    },
    {
     "name": "stderr",
     "output_type": "stream",
     "text": [
      " 31%|███▏      | 5/16 [00:01<00:03,  3.41it/s]"
     ]
    },
    {
     "name": "stdout",
     "output_type": "stream",
     "text": [
      "Game 457877502 in match 89647888 has no scores.\n"
     ]
    },
    {
     "name": "stderr",
     "output_type": "stream",
     "text": [
      "100%|██████████| 16/16 [00:04<00:00,  3.25it/s]\n"
     ]
    },
    {
     "name": "stdout",
     "output_type": "stream",
     "text": [
      "Leaderboard saved to c:\\Users\\Acer\\Documents\\skillbans-in-2024-main\\tournament-elo\\osumania 4K World Cup 2021\\Round of 16_leaderboard.csv\n"
     ]
    },
    {
     "name": "stderr",
     "output_type": "stream",
     "text": [
      " 56%|█████▋    | 9/16 [00:02<00:01,  3.62it/s]"
     ]
    },
    {
     "name": "stdout",
     "output_type": "stream",
     "text": [
      "Game 455948452 in match 89260825 has no scores.\n"
     ]
    },
    {
     "name": "stderr",
     "output_type": "stream",
     "text": [
      "100%|██████████| 16/16 [00:04<00:00,  3.61it/s]\n"
     ]
    },
    {
     "name": "stdout",
     "output_type": "stream",
     "text": [
      "Leaderboard saved to c:\\Users\\Acer\\Documents\\skillbans-in-2024-main\\tournament-elo\\osumania 4K World Cup 2021\\Round of 32_leaderboard.csv\n",
      "Finished processing osumania 4K World Cup 2021\n",
      "\n",
      "\n",
      "========== Processing c:\\Users\\Acer\\Documents\\skillbans-in-2024-main\\tournament-elo\\osumania 4K World Cup 2022 ==========\n"
     ]
    },
    {
     "name": "stderr",
     "output_type": "stream",
     "text": [
      "100%|██████████| 3/3 [00:00<00:00,  3.45it/s]"
     ]
    },
    {
     "name": "stdout",
     "output_type": "stream",
     "text": [
      "Game 531724787 in match 103874849 has no scores.\n"
     ]
    },
    {
     "name": "stderr",
     "output_type": "stream",
     "text": [
      "\n"
     ]
    },
    {
     "name": "stdout",
     "output_type": "stream",
     "text": [
      "Leaderboard saved to c:\\Users\\Acer\\Documents\\skillbans-in-2024-main\\tournament-elo\\osumania 4K World Cup 2022\\Grand Finals_leaderboard.csv\n"
     ]
    },
    {
     "name": "stderr",
     "output_type": "stream",
     "text": [
      "100%|██████████| 4/4 [00:01<00:00,  3.54it/s]"
     ]
    },
    {
     "name": "stdout",
     "output_type": "stream",
     "text": [
      "Game 530840484 in match 103719158 has no scores.\n"
     ]
    },
    {
     "name": "stderr",
     "output_type": "stream",
     "text": [
      "\n"
     ]
    },
    {
     "name": "stdout",
     "output_type": "stream",
     "text": [
      "Leaderboard saved to c:\\Users\\Acer\\Documents\\skillbans-in-2024-main\\tournament-elo\\osumania 4K World Cup 2022\\Finals_leaderboard.csv\n"
     ]
    },
    {
     "name": "stderr",
     "output_type": "stream",
     "text": [
      " 12%|█▎        | 1/8 [00:00<00:01,  3.66it/s]"
     ]
    },
    {
     "name": "stdout",
     "output_type": "stream",
     "text": [
      "Game 529794268 in match 103533339 has no scores.\n",
      "Game 529796169 in match 103533339 has no scores.\n"
     ]
    },
    {
     "name": "stderr",
     "output_type": "stream",
     "text": [
      "100%|██████████| 8/8 [00:02<00:00,  3.61it/s]\n"
     ]
    },
    {
     "name": "stdout",
     "output_type": "stream",
     "text": [
      "Leaderboard saved to c:\\Users\\Acer\\Documents\\skillbans-in-2024-main\\tournament-elo\\osumania 4K World Cup 2022\\Semifinals_leaderboard.csv\n"
     ]
    },
    {
     "name": "stderr",
     "output_type": "stream",
     "text": [
      " 38%|███▊      | 6/16 [00:01<00:02,  3.53it/s]"
     ]
    },
    {
     "name": "stdout",
     "output_type": "stream",
     "text": [
      "Game 528893055 in match 103373358 has no scores.\n"
     ]
    },
    {
     "name": "stderr",
     "output_type": "stream",
     "text": [
      " 62%|██████▎   | 10/16 [00:03<00:02,  2.63it/s]"
     ]
    },
    {
     "name": "stdout",
     "output_type": "stream",
     "text": [
      "Game 528978866 in match 103388112 has no scores.\n"
     ]
    },
    {
     "name": "stderr",
     "output_type": "stream",
     "text": [
      " 81%|████████▏ | 13/16 [00:04<00:01,  2.88it/s]"
     ]
    },
    {
     "name": "stdout",
     "output_type": "stream",
     "text": [
      "Game 529022379 in match 103395740 has no scores.\n"
     ]
    },
    {
     "name": "stderr",
     "output_type": "stream",
     "text": [
      " 88%|████████▊ | 14/16 [00:04<00:00,  3.03it/s]"
     ]
    },
    {
     "name": "stdout",
     "output_type": "stream",
     "text": [
      "Game 529022724 in match 103395663 has no scores.\n"
     ]
    },
    {
     "name": "stderr",
     "output_type": "stream",
     "text": [
      "100%|██████████| 16/16 [00:05<00:00,  3.15it/s]\n"
     ]
    },
    {
     "name": "stdout",
     "output_type": "stream",
     "text": [
      "Leaderboard saved to c:\\Users\\Acer\\Documents\\skillbans-in-2024-main\\tournament-elo\\osumania 4K World Cup 2022\\Quarterfinals_leaderboard.csv\n"
     ]
    },
    {
     "name": "stderr",
     "output_type": "stream",
     "text": [
      " 40%|████      | 6/15 [00:01<00:02,  3.70it/s]"
     ]
    },
    {
     "name": "stdout",
     "output_type": "stream",
     "text": [
      "Game 528035249 in match 103222531 has no scores.\n"
     ]
    },
    {
     "name": "stderr",
     "output_type": "stream",
     "text": [
      " 87%|████████▋ | 13/15 [00:03<00:00,  3.51it/s]"
     ]
    },
    {
     "name": "stdout",
     "output_type": "stream",
     "text": [
      "Game 528092605 in match 103232739 has no scores.\n"
     ]
    },
    {
     "name": "stderr",
     "output_type": "stream",
     "text": [
      "100%|██████████| 15/15 [00:04<00:00,  3.62it/s]\n"
     ]
    },
    {
     "name": "stdout",
     "output_type": "stream",
     "text": [
      "Leaderboard saved to c:\\Users\\Acer\\Documents\\skillbans-in-2024-main\\tournament-elo\\osumania 4K World Cup 2022\\Round of 16_leaderboard.csv\n"
     ]
    },
    {
     "name": "stderr",
     "output_type": "stream",
     "text": [
      " 31%|███▏      | 5/16 [00:01<00:04,  2.58it/s]"
     ]
    },
    {
     "name": "stdout",
     "output_type": "stream",
     "text": [
      "Game 526982525 in match 103038761 has no scores.\n"
     ]
    },
    {
     "name": "stderr",
     "output_type": "stream",
     "text": [
      " 75%|███████▌  | 12/16 [00:03<00:01,  3.57it/s]"
     ]
    },
    {
     "name": "stdout",
     "output_type": "stream",
     "text": [
      "Game 527116503 in match 103061529 has no scores.\n"
     ]
    },
    {
     "name": "stderr",
     "output_type": "stream",
     "text": [
      " 81%|████████▏ | 13/16 [00:03<00:00,  3.49it/s]"
     ]
    },
    {
     "name": "stdout",
     "output_type": "stream",
     "text": [
      "Game 527120942 in match 103062579 has no scores.\n"
     ]
    },
    {
     "name": "stderr",
     "output_type": "stream",
     "text": [
      "100%|██████████| 16/16 [00:04<00:00,  3.34it/s]\n"
     ]
    },
    {
     "name": "stdout",
     "output_type": "stream",
     "text": [
      "Leaderboard saved to c:\\Users\\Acer\\Documents\\skillbans-in-2024-main\\tournament-elo\\osumania 4K World Cup 2022\\Round of 32_leaderboard.csv\n",
      "Finished processing osumania 4K World Cup 2022\n",
      "\n",
      "\n",
      "========== Processing c:\\Users\\Acer\\Documents\\skillbans-in-2024-main\\tournament-elo\\osumania 4K World Cup 2023 ==========\n"
     ]
    },
    {
     "name": "stderr",
     "output_type": "stream",
     "text": [
      "100%|██████████| 2/2 [00:00<00:00,  3.32it/s]\n"
     ]
    },
    {
     "name": "stdout",
     "output_type": "stream",
     "text": [
      "Leaderboard saved to c:\\Users\\Acer\\Documents\\skillbans-in-2024-main\\tournament-elo\\osumania 4K World Cup 2023\\Grand Finals_leaderboard.csv\n"
     ]
    },
    {
     "name": "stderr",
     "output_type": "stream",
     "text": [
      " 75%|███████▌  | 3/4 [00:00<00:00,  3.49it/s]"
     ]
    },
    {
     "name": "stdout",
     "output_type": "stream",
     "text": [
      "Game 570401618 in match 110493949 has no scores.\n"
     ]
    },
    {
     "name": "stderr",
     "output_type": "stream",
     "text": [
      "100%|██████████| 4/4 [00:01<00:00,  3.51it/s]"
     ]
    },
    {
     "name": "stdout",
     "output_type": "stream",
     "text": [
      "Game 570439741 in match 110500530 has no scores.\n",
      "Game 570443120 in match 110500530 has no scores.\n"
     ]
    },
    {
     "name": "stderr",
     "output_type": "stream",
     "text": [
      "\n"
     ]
    },
    {
     "name": "stdout",
     "output_type": "stream",
     "text": [
      "Leaderboard saved to c:\\Users\\Acer\\Documents\\skillbans-in-2024-main\\tournament-elo\\osumania 4K World Cup 2023\\Finals_leaderboard.csv\n"
     ]
    },
    {
     "name": "stderr",
     "output_type": "stream",
     "text": [
      " 88%|████████▊ | 7/8 [00:01<00:00,  3.54it/s]"
     ]
    },
    {
     "name": "stdout",
     "output_type": "stream",
     "text": [
      "Game 569825802 in match 110399024 has no scores.\n"
     ]
    },
    {
     "name": "stderr",
     "output_type": "stream",
     "text": [
      "100%|██████████| 8/8 [00:02<00:00,  3.58it/s]"
     ]
    },
    {
     "name": "stdout",
     "output_type": "stream",
     "text": [
      "Game 569836915 in match 110401118 has no scores.\n"
     ]
    },
    {
     "name": "stderr",
     "output_type": "stream",
     "text": [
      "\n"
     ]
    },
    {
     "name": "stdout",
     "output_type": "stream",
     "text": [
      "Leaderboard saved to c:\\Users\\Acer\\Documents\\skillbans-in-2024-main\\tournament-elo\\osumania 4K World Cup 2023\\Semifinals_leaderboard.csv\n"
     ]
    },
    {
     "name": "stderr",
     "output_type": "stream",
     "text": [
      " 19%|█▉        | 3/16 [00:00<00:04,  3.17it/s]"
     ]
    },
    {
     "name": "stdout",
     "output_type": "stream",
     "text": [
      "Game 569100988 in match 110279274 has no scores.\n"
     ]
    },
    {
     "name": "stderr",
     "output_type": "stream",
     "text": [
      " 31%|███▏      | 5/16 [00:01<00:03,  3.10it/s]"
     ]
    },
    {
     "name": "stdout",
     "output_type": "stream",
     "text": [
      "Game 569113552 in match 110281465 has no scores.\n",
      "Game 569113686 in match 110281465 has no scores.\n"
     ]
    },
    {
     "name": "stderr",
     "output_type": "stream",
     "text": [
      " 38%|███▊      | 6/16 [00:01<00:03,  3.21it/s]"
     ]
    },
    {
     "name": "stdout",
     "output_type": "stream",
     "text": [
      "Game 569118898 in match 110282149 has no scores.\n"
     ]
    },
    {
     "name": "stderr",
     "output_type": "stream",
     "text": [
      " 62%|██████▎   | 10/16 [00:03<00:01,  3.53it/s]"
     ]
    },
    {
     "name": "stdout",
     "output_type": "stream",
     "text": [
      "Game 569170490 in match 110290873 has no scores.\n"
     ]
    },
    {
     "name": "stderr",
     "output_type": "stream",
     "text": [
      " 88%|████████▊ | 14/16 [00:04<00:00,  3.54it/s]"
     ]
    },
    {
     "name": "stdout",
     "output_type": "stream",
     "text": [
      "Game 569226812 in match 110299874 has no scores.\n"
     ]
    },
    {
     "name": "stderr",
     "output_type": "stream",
     "text": [
      "100%|██████████| 16/16 [00:04<00:00,  3.41it/s]\n"
     ]
    },
    {
     "name": "stdout",
     "output_type": "stream",
     "text": [
      "Leaderboard saved to c:\\Users\\Acer\\Documents\\skillbans-in-2024-main\\tournament-elo\\osumania 4K World Cup 2023\\Quarterfinals_leaderboard.csv\n"
     ]
    },
    {
     "name": "stderr",
     "output_type": "stream",
     "text": [
      " 31%|███▏      | 5/16 [00:01<00:03,  3.53it/s]"
     ]
    },
    {
     "name": "stdout",
     "output_type": "stream",
     "text": [
      "Game 568471927 in match 110174495 has no scores.\n"
     ]
    },
    {
     "name": "stderr",
     "output_type": "stream",
     "text": [
      " 50%|█████     | 8/16 [00:02<00:02,  3.50it/s]"
     ]
    },
    {
     "name": "stdout",
     "output_type": "stream",
     "text": [
      "Game 568538763 in match 110185466 has no scores.\n"
     ]
    },
    {
     "name": "stderr",
     "output_type": "stream",
     "text": [
      " 88%|████████▊ | 14/16 [00:04<00:00,  3.36it/s]"
     ]
    },
    {
     "name": "stdout",
     "output_type": "stream",
     "text": [
      "Game 568589795 in match 110194104 has no scores.\n"
     ]
    },
    {
     "name": "stderr",
     "output_type": "stream",
     "text": [
      "100%|██████████| 16/16 [00:04<00:00,  3.35it/s]\n"
     ]
    },
    {
     "name": "stdout",
     "output_type": "stream",
     "text": [
      "Leaderboard saved to c:\\Users\\Acer\\Documents\\skillbans-in-2024-main\\tournament-elo\\osumania 4K World Cup 2023\\Round of 16_leaderboard.csv\n"
     ]
    },
    {
     "name": "stderr",
     "output_type": "stream",
     "text": [
      "100%|██████████| 16/16 [00:04<00:00,  3.70it/s]\n"
     ]
    },
    {
     "name": "stdout",
     "output_type": "stream",
     "text": [
      "Leaderboard saved to c:\\Users\\Acer\\Documents\\skillbans-in-2024-main\\tournament-elo\\osumania 4K World Cup 2023\\Round of 32_leaderboard.csv\n",
      "Finished processing osumania 4K World Cup 2023\n",
      "\n",
      "\n",
      "========== Processing c:\\Users\\Acer\\Documents\\skillbans-in-2024-main\\tournament-elo\\osumania 4K World Cup 2024 ==========\n"
     ]
    },
    {
     "name": "stderr",
     "output_type": "stream",
     "text": [
      "100%|██████████| 2/2 [00:00<00:00,  3.58it/s]\n"
     ]
    },
    {
     "name": "stdout",
     "output_type": "stream",
     "text": [
      "Leaderboard saved to c:\\Users\\Acer\\Documents\\skillbans-in-2024-main\\tournament-elo\\osumania 4K World Cup 2024\\Grand Finals_leaderboard.csv\n"
     ]
    },
    {
     "name": "stderr",
     "output_type": "stream",
     "text": [
      " 50%|█████     | 2/4 [00:00<00:00,  3.62it/s]"
     ]
    },
    {
     "name": "stdout",
     "output_type": "stream",
     "text": [
      "Game 601288229 in match 115578099 has no scores.\n"
     ]
    },
    {
     "name": "stderr",
     "output_type": "stream",
     "text": [
      "100%|██████████| 4/4 [00:01<00:00,  3.54it/s]\n"
     ]
    },
    {
     "name": "stdout",
     "output_type": "stream",
     "text": [
      "Leaderboard saved to c:\\Users\\Acer\\Documents\\skillbans-in-2024-main\\tournament-elo\\osumania 4K World Cup 2024\\Finals_leaderboard.csv\n"
     ]
    },
    {
     "name": "stderr",
     "output_type": "stream",
     "text": [
      " 62%|██████▎   | 5/8 [00:01<00:00,  3.49it/s]"
     ]
    },
    {
     "name": "stdout",
     "output_type": "stream",
     "text": [
      "Game 600806514 in match 115498335 has no scores.\n",
      "Game 600806535 in match 115498335 has no scores.\n",
      "Game 600806950 in match 115498335 has no scores.\n"
     ]
    },
    {
     "name": "stderr",
     "output_type": "stream",
     "text": [
      " 88%|████████▊ | 7/8 [00:01<00:00,  3.43it/s]"
     ]
    },
    {
     "name": "stdout",
     "output_type": "stream",
     "text": [
      "Game 600844056 in match 115504476 has no scores.\n"
     ]
    },
    {
     "name": "stderr",
     "output_type": "stream",
     "text": [
      "100%|██████████| 8/8 [00:02<00:00,  3.54it/s]\n"
     ]
    },
    {
     "name": "stdout",
     "output_type": "stream",
     "text": [
      "Leaderboard saved to c:\\Users\\Acer\\Documents\\skillbans-in-2024-main\\tournament-elo\\osumania 4K World Cup 2024\\Semifinals_leaderboard.csv\n"
     ]
    },
    {
     "name": "stderr",
     "output_type": "stream",
     "text": [
      " 31%|███▏      | 5/16 [00:01<00:03,  3.55it/s]"
     ]
    },
    {
     "name": "stdout",
     "output_type": "stream",
     "text": [
      "Game 600212535 in match 115401635 has no scores.\n"
     ]
    },
    {
     "name": "stderr",
     "output_type": "stream",
     "text": [
      " 81%|████████▏ | 13/16 [00:03<00:00,  3.43it/s]"
     ]
    },
    {
     "name": "stdout",
     "output_type": "stream",
     "text": [
      "Game 600303926 in match 115416098 has no scores.\n"
     ]
    },
    {
     "name": "stderr",
     "output_type": "stream",
     "text": [
      "100%|██████████| 16/16 [00:04<00:00,  3.49it/s]\n"
     ]
    },
    {
     "name": "stdout",
     "output_type": "stream",
     "text": [
      "Leaderboard saved to c:\\Users\\Acer\\Documents\\skillbans-in-2024-main\\tournament-elo\\osumania 4K World Cup 2024\\Quarterfinals_leaderboard.csv\n"
     ]
    },
    {
     "name": "stderr",
     "output_type": "stream",
     "text": [
      " 33%|███▎      | 5/15 [00:01<00:02,  3.68it/s]"
     ]
    },
    {
     "name": "stdout",
     "output_type": "stream",
     "text": [
      "Game 599661544 in match 115309466 has no scores.\n"
     ]
    },
    {
     "name": "stderr",
     "output_type": "stream",
     "text": [
      " 47%|████▋     | 7/15 [00:01<00:02,  3.72it/s]"
     ]
    },
    {
     "name": "stdout",
     "output_type": "stream",
     "text": [
      "Game 599686069 in match 115313817 has no scores.\n"
     ]
    },
    {
     "name": "stderr",
     "output_type": "stream",
     "text": [
      "100%|██████████| 15/15 [00:04<00:00,  3.67it/s]"
     ]
    },
    {
     "name": "stdout",
     "output_type": "stream",
     "text": [
      "Game 599784081 in match 115329730 has no scores.\n"
     ]
    },
    {
     "name": "stderr",
     "output_type": "stream",
     "text": [
      "\n"
     ]
    },
    {
     "name": "stdout",
     "output_type": "stream",
     "text": [
      "Leaderboard saved to c:\\Users\\Acer\\Documents\\skillbans-in-2024-main\\tournament-elo\\osumania 4K World Cup 2024\\Round of 16_leaderboard.csv\n"
     ]
    },
    {
     "name": "stderr",
     "output_type": "stream",
     "text": [
      " 38%|███▊      | 6/16 [00:01<00:02,  3.63it/s]"
     ]
    },
    {
     "name": "stdout",
     "output_type": "stream",
     "text": [
      "Game 599095340 in match 115213041 has no scores.\n"
     ]
    },
    {
     "name": "stderr",
     "output_type": "stream",
     "text": [
      "100%|██████████| 16/16 [00:04<00:00,  3.64it/s]"
     ]
    },
    {
     "name": "stdout",
     "output_type": "stream",
     "text": [
      "Game 599194453 in match 115230003 has no scores.\n"
     ]
    },
    {
     "name": "stderr",
     "output_type": "stream",
     "text": [
      "\n"
     ]
    },
    {
     "name": "stdout",
     "output_type": "stream",
     "text": [
      "Leaderboard saved to c:\\Users\\Acer\\Documents\\skillbans-in-2024-main\\tournament-elo\\osumania 4K World Cup 2024\\Round of 32_leaderboard.csv\n",
      "Finished processing osumania 4K World Cup 2024\n",
      "\n",
      "\n",
      "========== Processing c:\\Users\\Acer\\Documents\\skillbans-in-2024-main\\tournament-elo\\osumania LN Tournament 3 ==========\n"
     ]
    },
    {
     "name": "stderr",
     "output_type": "stream",
     "text": [
      "100%|██████████| 2/2 [00:00<00:00,  3.42it/s]"
     ]
    },
    {
     "name": "stdout",
     "output_type": "stream",
     "text": [
      "Game 540609215 in match 105450216 has no scores.\n",
      "Game 540613791 in match 105450216 has no scores.\n"
     ]
    },
    {
     "name": "stderr",
     "output_type": "stream",
     "text": [
      "\n"
     ]
    },
    {
     "name": "stdout",
     "output_type": "stream",
     "text": [
      "Leaderboard saved to c:\\Users\\Acer\\Documents\\skillbans-in-2024-main\\tournament-elo\\osumania LN Tournament 3\\Grand Finals_leaderboard.csv\n"
     ]
    },
    {
     "name": "stderr",
     "output_type": "stream",
     "text": [
      "100%|██████████| 4/4 [00:01<00:00,  3.48it/s]\n"
     ]
    },
    {
     "name": "stdout",
     "output_type": "stream",
     "text": [
      "Leaderboard saved to c:\\Users\\Acer\\Documents\\skillbans-in-2024-main\\tournament-elo\\osumania LN Tournament 3\\Finals_leaderboard.csv\n"
     ]
    },
    {
     "name": "stderr",
     "output_type": "stream",
     "text": [
      " 75%|███████▌  | 6/8 [00:01<00:00,  3.23it/s]"
     ]
    },
    {
     "name": "stdout",
     "output_type": "stream",
     "text": [
      "Game 539039907 in match 105177609 has no scores.\n"
     ]
    },
    {
     "name": "stderr",
     "output_type": "stream",
     "text": [
      "100%|██████████| 8/8 [00:02<00:00,  3.11it/s]\n"
     ]
    },
    {
     "name": "stdout",
     "output_type": "stream",
     "text": [
      "Leaderboard saved to c:\\Users\\Acer\\Documents\\skillbans-in-2024-main\\tournament-elo\\osumania LN Tournament 3\\Semifinals_leaderboard.csv\n"
     ]
    },
    {
     "name": "stderr",
     "output_type": "stream",
     "text": [
      "100%|██████████| 15/15 [00:04<00:00,  3.54it/s]\n"
     ]
    },
    {
     "name": "stdout",
     "output_type": "stream",
     "text": [
      "Leaderboard saved to c:\\Users\\Acer\\Documents\\skillbans-in-2024-main\\tournament-elo\\osumania LN Tournament 3\\Quarterfinals_leaderboard.csv\n"
     ]
    },
    {
     "name": "stderr",
     "output_type": "stream",
     "text": [
      " 59%|█████▉    | 16/27 [00:04<00:03,  3.17it/s]"
     ]
    },
    {
     "name": "stdout",
     "output_type": "stream",
     "text": [
      "Game 537436608 in match 104893012 has no scores.\n"
     ]
    },
    {
     "name": "stderr",
     "output_type": "stream",
     "text": [
      " 70%|███████   | 19/27 [00:05<00:02,  3.01it/s]"
     ]
    },
    {
     "name": "stdout",
     "output_type": "stream",
     "text": [
      "Game 537469732 in match 104898698 has no scores.\n"
     ]
    },
    {
     "name": "stderr",
     "output_type": "stream",
     "text": [
      " 96%|█████████▋| 26/27 [00:08<00:00,  3.17it/s]"
     ]
    },
    {
     "name": "stdout",
     "output_type": "stream",
     "text": [
      "Game 537496141 in match 104904096 has no scores.\n"
     ]
    },
    {
     "name": "stderr",
     "output_type": "stream",
     "text": [
      "100%|██████████| 27/27 [00:08<00:00,  3.26it/s]\n"
     ]
    },
    {
     "name": "stdout",
     "output_type": "stream",
     "text": [
      "Leaderboard saved to c:\\Users\\Acer\\Documents\\skillbans-in-2024-main\\tournament-elo\\osumania LN Tournament 3\\Round of 16_leaderboard.csv\n"
     ]
    },
    {
     "name": "stderr",
     "output_type": "stream",
     "text": [
      " 50%|█████     | 13/26 [00:03<00:03,  3.59it/s]"
     ]
    },
    {
     "name": "stdout",
     "output_type": "stream",
     "text": [
      "Game 536595361 in match 104742637 has no scores.\n",
      "Game 536596363 in match 104742637 has no scores.\n"
     ]
    },
    {
     "name": "stderr",
     "output_type": "stream",
     "text": [
      "100%|██████████| 26/26 [00:07<00:00,  3.56it/s]\n"
     ]
    },
    {
     "name": "stdout",
     "output_type": "stream",
     "text": [
      "Leaderboard saved to c:\\Users\\Acer\\Documents\\skillbans-in-2024-main\\tournament-elo\\osumania LN Tournament 3\\Round of 32_leaderboard.csv\n",
      "Finished processing osumania LN Tournament 3\n",
      "\n",
      "\n",
      "========== Processing c:\\Users\\Acer\\Documents\\skillbans-in-2024-main\\tournament-elo\\osumania Malaysia Tournament 4 ==========\n"
     ]
    },
    {
     "name": "stderr",
     "output_type": "stream",
     "text": [
      "100%|██████████| 1/1 [00:00<00:00,  3.62it/s]"
     ]
    },
    {
     "name": "stdout",
     "output_type": "stream",
     "text": [
      "Game 598604260 in match 115131174 has no scores.\n"
     ]
    },
    {
     "name": "stderr",
     "output_type": "stream",
     "text": [
      "\n"
     ]
    },
    {
     "name": "stdout",
     "output_type": "stream",
     "text": [
      "Leaderboard saved to c:\\Users\\Acer\\Documents\\skillbans-in-2024-main\\tournament-elo\\osumania Malaysia Tournament 4\\Grand Finals_leaderboard.csv\n"
     ]
    },
    {
     "name": "stderr",
     "output_type": "stream",
     "text": [
      " 25%|██▌       | 1/4 [00:00<00:00,  3.10it/s]"
     ]
    },
    {
     "name": "stdout",
     "output_type": "stream",
     "text": [
      "Game 597948786 in match 115023302 has no scores.\n"
     ]
    },
    {
     "name": "stderr",
     "output_type": "stream",
     "text": [
      " 75%|███████▌  | 3/4 [00:00<00:00,  3.26it/s]"
     ]
    },
    {
     "name": "stdout",
     "output_type": "stream",
     "text": [
      "Game 598029328 in match 115037106 has no scores.\n",
      "Game 598029840 in match 115037106 has no scores.\n"
     ]
    },
    {
     "name": "stderr",
     "output_type": "stream",
     "text": [
      "100%|██████████| 4/4 [00:01<00:00,  3.30it/s]\n"
     ]
    },
    {
     "name": "stdout",
     "output_type": "stream",
     "text": [
      "Leaderboard saved to c:\\Users\\Acer\\Documents\\skillbans-in-2024-main\\tournament-elo\\osumania Malaysia Tournament 4\\Finals_leaderboard.csv\n"
     ]
    },
    {
     "name": "stderr",
     "output_type": "stream",
     "text": [
      " 62%|██████▎   | 5/8 [00:01<00:00,  3.34it/s]"
     ]
    },
    {
     "name": "stdout",
     "output_type": "stream",
     "text": [
      "Game 597382664 in match 114930074 has no scores.\n"
     ]
    },
    {
     "name": "stderr",
     "output_type": "stream",
     "text": [
      "100%|██████████| 8/8 [00:02<00:00,  3.34it/s]\n"
     ]
    },
    {
     "name": "stdout",
     "output_type": "stream",
     "text": [
      "Leaderboard saved to c:\\Users\\Acer\\Documents\\skillbans-in-2024-main\\tournament-elo\\osumania Malaysia Tournament 4\\Semifinals_leaderboard.csv\n"
     ]
    },
    {
     "name": "stderr",
     "output_type": "stream",
     "text": [
      " 62%|██████▎   | 5/8 [00:01<00:00,  3.34it/s]"
     ]
    },
    {
     "name": "stdout",
     "output_type": "stream",
     "text": [
      "Game 596815690 in match 114835540 has no scores.\n"
     ]
    },
    {
     "name": "stderr",
     "output_type": "stream",
     "text": [
      " 88%|████████▊ | 7/8 [00:02<00:00,  3.48it/s]"
     ]
    },
    {
     "name": "stdout",
     "output_type": "stream",
     "text": [
      "Game 596891492 in match 114848289 has no scores.\n"
     ]
    },
    {
     "name": "stderr",
     "output_type": "stream",
     "text": [
      "100%|██████████| 8/8 [00:02<00:00,  3.47it/s]\n"
     ]
    },
    {
     "name": "stdout",
     "output_type": "stream",
     "text": [
      "Leaderboard saved to c:\\Users\\Acer\\Documents\\skillbans-in-2024-main\\tournament-elo\\osumania Malaysia Tournament 4\\Quarterfinals_leaderboard.csv\n"
     ]
    },
    {
     "name": "stderr",
     "output_type": "stream",
     "text": [
      " 45%|████▌     | 5/11 [00:01<00:01,  3.60it/s]"
     ]
    },
    {
     "name": "stdout",
     "output_type": "stream",
     "text": [
      "Game 596258209 in match 114743117 has no scores.\n"
     ]
    },
    {
     "name": "stderr",
     "output_type": "stream",
     "text": [
      " 91%|█████████ | 10/11 [00:02<00:00,  3.53it/s]"
     ]
    },
    {
     "name": "stdout",
     "output_type": "stream",
     "text": [
      "Game 596341507 in match 114756690 has no scores.\n"
     ]
    },
    {
     "name": "stderr",
     "output_type": "stream",
     "text": [
      "100%|██████████| 11/11 [00:03<00:00,  3.55it/s]\n"
     ]
    },
    {
     "name": "stdout",
     "output_type": "stream",
     "text": [
      "Leaderboard saved to c:\\Users\\Acer\\Documents\\skillbans-in-2024-main\\tournament-elo\\osumania Malaysia Tournament 4\\Round of 16_leaderboard.csv\n"
     ]
    },
    {
     "name": "stderr",
     "output_type": "stream",
     "text": [
      " 36%|███▌      | 5/14 [00:01<00:02,  3.69it/s]"
     ]
    },
    {
     "name": "stdout",
     "output_type": "stream",
     "text": [
      "Game 595729406 in match 114655624 has no scores.\n"
     ]
    },
    {
     "name": "stderr",
     "output_type": "stream",
     "text": [
      " 79%|███████▊  | 11/14 [00:02<00:00,  3.67it/s]"
     ]
    },
    {
     "name": "stdout",
     "output_type": "stream",
     "text": [
      "Game 595808467 in match 114667969 has no scores.\n"
     ]
    },
    {
     "name": "stderr",
     "output_type": "stream",
     "text": [
      "100%|██████████| 14/14 [00:03<00:00,  3.66it/s]\n"
     ]
    },
    {
     "name": "stdout",
     "output_type": "stream",
     "text": [
      "Leaderboard saved to c:\\Users\\Acer\\Documents\\skillbans-in-2024-main\\tournament-elo\\osumania Malaysia Tournament 4\\Round of 32_leaderboard.csv\n",
      "Finished processing osumania Malaysia Tournament 4\n",
      "\n",
      "\n",
      "========== Processing c:\\Users\\Acer\\Documents\\skillbans-in-2024-main\\tournament-elo\\Speed of Light 2 Lucha Libre Edition ==========\n"
     ]
    },
    {
     "name": "stderr",
     "output_type": "stream",
     "text": [
      "100%|██████████| 3/3 [00:00<00:00,  3.49it/s]\n"
     ]
    },
    {
     "name": "stdout",
     "output_type": "stream",
     "text": [
      "Leaderboard saved to c:\\Users\\Acer\\Documents\\skillbans-in-2024-main\\tournament-elo\\Speed of Light 2 Lucha Libre Edition\\Grand Finals_leaderboard.csv\n"
     ]
    },
    {
     "name": "stderr",
     "output_type": "stream",
     "text": [
      "100%|██████████| 4/4 [00:01<00:00,  3.20it/s]\n"
     ]
    },
    {
     "name": "stdout",
     "output_type": "stream",
     "text": [
      "Leaderboard saved to c:\\Users\\Acer\\Documents\\skillbans-in-2024-main\\tournament-elo\\Speed of Light 2 Lucha Libre Edition\\Finals_leaderboard.csv\n"
     ]
    },
    {
     "name": "stderr",
     "output_type": "stream",
     "text": [
      "100%|██████████| 7/7 [00:01<00:00,  3.51it/s]\n"
     ]
    },
    {
     "name": "stdout",
     "output_type": "stream",
     "text": [
      "Leaderboard saved to c:\\Users\\Acer\\Documents\\skillbans-in-2024-main\\tournament-elo\\Speed of Light 2 Lucha Libre Edition\\Semifinals_leaderboard.csv\n"
     ]
    },
    {
     "name": "stderr",
     "output_type": "stream",
     "text": [
      "  9%|▉         | 1/11 [00:00<00:02,  3.62it/s]"
     ]
    },
    {
     "name": "stdout",
     "output_type": "stream",
     "text": [
      "Game 375578055 in match 71848373 has no scores.\n",
      "Game 375589444 in match 71848373 has no scores.\n"
     ]
    },
    {
     "name": "stderr",
     "output_type": "stream",
     "text": [
      "100%|██████████| 11/11 [00:03<00:00,  3.29it/s]\n"
     ]
    },
    {
     "name": "stdout",
     "output_type": "stream",
     "text": [
      "Leaderboard saved to c:\\Users\\Acer\\Documents\\skillbans-in-2024-main\\tournament-elo\\Speed of Light 2 Lucha Libre Edition\\Quarterfinals_leaderboard.csv\n"
     ]
    },
    {
     "name": "stderr",
     "output_type": "stream",
     "text": [
      " 67%|██████▋   | 8/12 [00:02<00:01,  3.33it/s]"
     ]
    },
    {
     "name": "stdout",
     "output_type": "stream",
     "text": [
      "Game 373845732 in match 71484864 has no scores.\n"
     ]
    },
    {
     "name": "stderr",
     "output_type": "stream",
     "text": [
      " 92%|█████████▏| 11/12 [00:03<00:00,  3.40it/s]"
     ]
    },
    {
     "name": "stdout",
     "output_type": "stream",
     "text": [
      "Game 373929577 in match 71501450 has no scores.\n"
     ]
    },
    {
     "name": "stderr",
     "output_type": "stream",
     "text": [
      "100%|██████████| 12/12 [00:03<00:00,  3.15it/s]\n"
     ]
    },
    {
     "name": "stdout",
     "output_type": "stream",
     "text": [
      "Leaderboard saved to c:\\Users\\Acer\\Documents\\skillbans-in-2024-main\\tournament-elo\\Speed of Light 2 Lucha Libre Edition\\Round of 16_leaderboard.csv\n"
     ]
    },
    {
     "name": "stderr",
     "output_type": "stream",
     "text": [
      " 21%|██▏       | 3/14 [00:00<00:03,  3.23it/s]"
     ]
    },
    {
     "name": "stdout",
     "output_type": "stream",
     "text": [
      "Game 371556775 in match 71014633 has no scores.\n"
     ]
    },
    {
     "name": "stderr",
     "output_type": "stream",
     "text": [
      " 64%|██████▍   | 9/14 [00:02<00:01,  3.56it/s]"
     ]
    },
    {
     "name": "stdout",
     "output_type": "stream",
     "text": [
      "Game 371859622 in match 71080196 has no scores.\n"
     ]
    },
    {
     "name": "stderr",
     "output_type": "stream",
     "text": [
      " 71%|███████▏  | 10/14 [00:02<00:01,  3.60it/s]"
     ]
    },
    {
     "name": "stdout",
     "output_type": "stream",
     "text": [
      "Game 371871850 in match 71082913 has no scores.\n"
     ]
    },
    {
     "name": "stderr",
     "output_type": "stream",
     "text": [
      "100%|██████████| 14/14 [00:03<00:00,  3.55it/s]\n"
     ]
    },
    {
     "name": "stdout",
     "output_type": "stream",
     "text": [
      "Leaderboard saved to c:\\Users\\Acer\\Documents\\skillbans-in-2024-main\\tournament-elo\\Speed of Light 2 Lucha Libre Edition\\Round of 32_leaderboard.csv\n",
      "Finished processing Speed of Light 2 Lucha Libre Edition\n",
      "\n",
      "\n",
      "========== Processing c:\\Users\\Acer\\Documents\\skillbans-in-2024-main\\tournament-elo\\Speed of Light 3 ==========\n"
     ]
    },
    {
     "name": "stderr",
     "output_type": "stream",
     "text": [
      "100%|██████████| 2/2 [00:00<00:00,  3.34it/s]"
     ]
    },
    {
     "name": "stdout",
     "output_type": "stream",
     "text": [
      "Game 551594833 in match 107320294 has no scores.\n"
     ]
    },
    {
     "name": "stderr",
     "output_type": "stream",
     "text": [
      "\n"
     ]
    },
    {
     "name": "stdout",
     "output_type": "stream",
     "text": [
      "Leaderboard saved to c:\\Users\\Acer\\Documents\\skillbans-in-2024-main\\tournament-elo\\Speed of Light 3\\Grand Finals_leaderboard.csv\n"
     ]
    },
    {
     "name": "stderr",
     "output_type": "stream",
     "text": [
      "100%|██████████| 4/4 [00:01<00:00,  3.37it/s]"
     ]
    },
    {
     "name": "stdout",
     "output_type": "stream",
     "text": [
      "Game 550893356 in match 107199847 has no scores.\n"
     ]
    },
    {
     "name": "stderr",
     "output_type": "stream",
     "text": [
      "\n"
     ]
    },
    {
     "name": "stdout",
     "output_type": "stream",
     "text": [
      "Leaderboard saved to c:\\Users\\Acer\\Documents\\skillbans-in-2024-main\\tournament-elo\\Speed of Light 3\\Finals_leaderboard.csv\n"
     ]
    },
    {
     "name": "stderr",
     "output_type": "stream",
     "text": [
      "100%|██████████| 8/8 [00:02<00:00,  3.48it/s]\n"
     ]
    },
    {
     "name": "stdout",
     "output_type": "stream",
     "text": [
      "Leaderboard saved to c:\\Users\\Acer\\Documents\\skillbans-in-2024-main\\tournament-elo\\Speed of Light 3\\Semifinals_leaderboard.csv\n"
     ]
    },
    {
     "name": "stderr",
     "output_type": "stream",
     "text": [
      " 45%|████▌     | 5/11 [00:01<00:01,  3.50it/s]"
     ]
    },
    {
     "name": "stdout",
     "output_type": "stream",
     "text": [
      "Game 549217450 in match 106916010 has no scores.\n"
     ]
    },
    {
     "name": "stderr",
     "output_type": "stream",
     "text": [
      " 82%|████████▏ | 9/11 [00:02<00:00,  3.27it/s]"
     ]
    },
    {
     "name": "stdout",
     "output_type": "stream",
     "text": [
      "Game 549329042 in match 106935464 has no scores.\n"
     ]
    },
    {
     "name": "stderr",
     "output_type": "stream",
     "text": [
      "100%|██████████| 11/11 [00:03<00:00,  3.29it/s]\n"
     ]
    },
    {
     "name": "stdout",
     "output_type": "stream",
     "text": [
      "Leaderboard saved to c:\\Users\\Acer\\Documents\\skillbans-in-2024-main\\tournament-elo\\Speed of Light 3\\Quarterfinals_leaderboard.csv\n"
     ]
    },
    {
     "name": "stderr",
     "output_type": "stream",
     "text": [
      "100%|██████████| 10/10 [00:02<00:00,  3.51it/s]\n"
     ]
    },
    {
     "name": "stdout",
     "output_type": "stream",
     "text": [
      "Leaderboard saved to c:\\Users\\Acer\\Documents\\skillbans-in-2024-main\\tournament-elo\\Speed of Light 3\\Round of 16_leaderboard.csv\n"
     ]
    },
    {
     "name": "stderr",
     "output_type": "stream",
     "text": [
      "100%|██████████| 11/11 [00:03<00:00,  3.52it/s]"
     ]
    },
    {
     "name": "stdout",
     "output_type": "stream",
     "text": [
      "Game 547937659 in match 106697639 has no scores.\n"
     ]
    },
    {
     "name": "stderr",
     "output_type": "stream",
     "text": [
      "\n"
     ]
    },
    {
     "name": "stdout",
     "output_type": "stream",
     "text": [
      "Leaderboard saved to c:\\Users\\Acer\\Documents\\skillbans-in-2024-main\\tournament-elo\\Speed of Light 3\\Round of 32_leaderboard.csv\n",
      "Finished processing Speed of Light 3\n",
      "\n",
      "\n",
      "========== Processing c:\\Users\\Acer\\Documents\\skillbans-in-2024-main\\tournament-elo\\Springtime Osumania Free-for-all Tournament 5 ==========\n"
     ]
    },
    {
     "name": "stderr",
     "output_type": "stream",
     "text": [
      "100%|██████████| 3/3 [00:00<00:00,  3.55it/s]\n"
     ]
    },
    {
     "name": "stdout",
     "output_type": "stream",
     "text": [
      "Leaderboard saved to c:\\Users\\Acer\\Documents\\skillbans-in-2024-main\\tournament-elo\\Springtime Osumania Free-for-all Tournament 5\\Grand Finals_leaderboard.csv\n"
     ]
    },
    {
     "name": "stderr",
     "output_type": "stream",
     "text": [
      "100%|██████████| 3/3 [00:00<00:00,  3.51it/s]\n"
     ]
    },
    {
     "name": "stdout",
     "output_type": "stream",
     "text": [
      "Leaderboard saved to c:\\Users\\Acer\\Documents\\skillbans-in-2024-main\\tournament-elo\\Springtime Osumania Free-for-all Tournament 5\\Finals_leaderboard.csv\n"
     ]
    },
    {
     "name": "stderr",
     "output_type": "stream",
     "text": [
      "100%|██████████| 8/8 [00:02<00:00,  3.47it/s]\n"
     ]
    },
    {
     "name": "stdout",
     "output_type": "stream",
     "text": [
      "Leaderboard saved to c:\\Users\\Acer\\Documents\\skillbans-in-2024-main\\tournament-elo\\Springtime Osumania Free-for-all Tournament 5\\Semifinals_leaderboard.csv\n"
     ]
    },
    {
     "name": "stderr",
     "output_type": "stream",
     "text": [
      " 47%|████▋     | 7/15 [00:01<00:02,  3.37it/s]"
     ]
    },
    {
     "name": "stdout",
     "output_type": "stream",
     "text": [
      "Game 417608146 in match 81115990 has no scores.\n",
      "Game 417610931 in match 81115990 has no scores.\n"
     ]
    },
    {
     "name": "stderr",
     "output_type": "stream",
     "text": [
      "100%|██████████| 15/15 [00:04<00:00,  3.48it/s]\n"
     ]
    },
    {
     "name": "stdout",
     "output_type": "stream",
     "text": [
      "Leaderboard saved to c:\\Users\\Acer\\Documents\\skillbans-in-2024-main\\tournament-elo\\Springtime Osumania Free-for-all Tournament 5\\Quarterfinals_leaderboard.csv\n"
     ]
    },
    {
     "name": "stderr",
     "output_type": "stream",
     "text": [
      " 28%|██▊       | 16/58 [00:04<00:11,  3.71it/s]"
     ]
    },
    {
     "name": "stdout",
     "output_type": "stream",
     "text": [
      "Game 401553265 in match 77393637 has no scores.\n"
     ]
    },
    {
     "name": "stderr",
     "output_type": "stream",
     "text": [
      " 97%|█████████▋| 56/58 [00:15<00:00,  3.51it/s]"
     ]
    },
    {
     "name": "stdout",
     "output_type": "stream",
     "text": [
      "Game 404556146 in match 78068419 has no scores.\n"
     ]
    },
    {
     "name": "stderr",
     "output_type": "stream",
     "text": [
      "100%|██████████| 58/58 [00:16<00:00,  3.55it/s]\n"
     ]
    },
    {
     "name": "stdout",
     "output_type": "stream",
     "text": [
      "Leaderboard saved to c:\\Users\\Acer\\Documents\\skillbans-in-2024-main\\tournament-elo\\Springtime Osumania Free-for-all Tournament 5\\Playoffs_leaderboard.csv\n"
     ]
    },
    {
     "name": "stderr",
     "output_type": "stream",
     "text": [
      " 27%|██▋       | 4/15 [00:01<00:03,  3.55it/s]"
     ]
    },
    {
     "name": "stdout",
     "output_type": "stream",
     "text": [
      "Game 414883191 in match 80484471 has no scores.\n"
     ]
    },
    {
     "name": "stderr",
     "output_type": "stream",
     "text": [
      " 67%|██████▋   | 10/15 [00:02<00:01,  3.66it/s]"
     ]
    },
    {
     "name": "stdout",
     "output_type": "stream",
     "text": [
      "Game 415239336 in match 80563987 has no scores.\n"
     ]
    },
    {
     "name": "stderr",
     "output_type": "stream",
     "text": [
      "100%|██████████| 15/15 [00:04<00:00,  3.60it/s]\n"
     ]
    },
    {
     "name": "stdout",
     "output_type": "stream",
     "text": [
      "Leaderboard saved to c:\\Users\\Acer\\Documents\\skillbans-in-2024-main\\tournament-elo\\Springtime Osumania Free-for-all Tournament 5\\Round of 16_leaderboard.csv\n"
     ]
    },
    {
     "name": "stderr",
     "output_type": "stream",
     "text": [
      " 67%|██████▋   | 10/15 [00:02<00:01,  3.44it/s]"
     ]
    },
    {
     "name": "stdout",
     "output_type": "stream",
     "text": [
      "Game 412504349 in match 79934067 has no scores.\n"
     ]
    },
    {
     "name": "stderr",
     "output_type": "stream",
     "text": [
      "100%|██████████| 15/15 [00:04<00:00,  3.23it/s]\n"
     ]
    },
    {
     "name": "stdout",
     "output_type": "stream",
     "text": [
      "Leaderboard saved to c:\\Users\\Acer\\Documents\\skillbans-in-2024-main\\tournament-elo\\Springtime Osumania Free-for-all Tournament 5\\Round of 32_leaderboard.csv\n",
      "Finished processing Springtime Osumania Free-for-all Tournament 5\n",
      "\n",
      "\n",
      "========== Processing c:\\Users\\Acer\\Documents\\skillbans-in-2024-main\\tournament-elo\\Springtime osumania Free-for-all Tournament 6 ==========\n"
     ]
    },
    {
     "name": "stderr",
     "output_type": "stream",
     "text": [
      "100%|██████████| 4/4 [00:01<00:00,  3.51it/s]\n"
     ]
    },
    {
     "name": "stdout",
     "output_type": "stream",
     "text": [
      "Leaderboard saved to c:\\Users\\Acer\\Documents\\skillbans-in-2024-main\\tournament-elo\\Springtime osumania Free-for-all Tournament 6\\Finals_leaderboard.csv\n"
     ]
    },
    {
     "name": "stderr",
     "output_type": "stream",
     "text": [
      "100%|██████████| 7/7 [00:01<00:00,  3.53it/s]\n"
     ]
    },
    {
     "name": "stdout",
     "output_type": "stream",
     "text": [
      "Leaderboard saved to c:\\Users\\Acer\\Documents\\skillbans-in-2024-main\\tournament-elo\\Springtime osumania Free-for-all Tournament 6\\Semifinals_leaderboard.csv\n"
     ]
    },
    {
     "name": "stderr",
     "output_type": "stream",
     "text": [
      " 23%|██▎       | 3/13 [00:01<00:03,  2.75it/s]"
     ]
    },
    {
     "name": "stdout",
     "output_type": "stream",
     "text": [
      "Game 509970986 in match 100019785 has no scores.\n"
     ]
    },
    {
     "name": "stderr",
     "output_type": "stream",
     "text": [
      "100%|██████████| 13/13 [00:03<00:00,  3.44it/s]\n"
     ]
    },
    {
     "name": "stdout",
     "output_type": "stream",
     "text": [
      "Leaderboard saved to c:\\Users\\Acer\\Documents\\skillbans-in-2024-main\\tournament-elo\\Springtime osumania Free-for-all Tournament 6\\Quarterfinals_leaderboard.csv\n"
     ]
    },
    {
     "name": "stderr",
     "output_type": "stream",
     "text": [
      "  8%|▊         | 4/49 [00:01<00:12,  3.66it/s]"
     ]
    },
    {
     "name": "stdout",
     "output_type": "stream",
     "text": [
      "Game 502634068 in match 98656032 has no scores.\n"
     ]
    },
    {
     "name": "stderr",
     "output_type": "stream",
     "text": [
      " 24%|██▍       | 12/49 [00:03<00:10,  3.38it/s]"
     ]
    },
    {
     "name": "stdout",
     "output_type": "stream",
     "text": [
      "Game 502709380 in match 98670641 has no scores.\n"
     ]
    },
    {
     "name": "stderr",
     "output_type": "stream",
     "text": [
      "100%|██████████| 49/49 [00:14<00:00,  3.38it/s]\n"
     ]
    },
    {
     "name": "stdout",
     "output_type": "stream",
     "text": [
      "Leaderboard saved to c:\\Users\\Acer\\Documents\\skillbans-in-2024-main\\tournament-elo\\Springtime osumania Free-for-all Tournament 6\\Playoffs_leaderboard.csv\n"
     ]
    },
    {
     "name": "stderr",
     "output_type": "stream",
     "text": [
      "100%|██████████| 13/13 [00:03<00:00,  3.56it/s]\n"
     ]
    },
    {
     "name": "stdout",
     "output_type": "stream",
     "text": [
      "Leaderboard saved to c:\\Users\\Acer\\Documents\\skillbans-in-2024-main\\tournament-elo\\Springtime osumania Free-for-all Tournament 6\\Round of 16_leaderboard.csv\n"
     ]
    },
    {
     "name": "stderr",
     "output_type": "stream",
     "text": [
      " 43%|████▎     | 6/14 [00:01<00:02,  3.64it/s]"
     ]
    },
    {
     "name": "stdout",
     "output_type": "stream",
     "text": [
      "Game 507542456 in match 99573235 has no scores.\n"
     ]
    },
    {
     "name": "stderr",
     "output_type": "stream",
     "text": [
      "100%|██████████| 14/14 [00:04<00:00,  3.26it/s]\n"
     ]
    },
    {
     "name": "stdout",
     "output_type": "stream",
     "text": [
      "Leaderboard saved to c:\\Users\\Acer\\Documents\\skillbans-in-2024-main\\tournament-elo\\Springtime osumania Free-for-all Tournament 6\\Round of 32_leaderboard.csv\n",
      "Finished processing Springtime osumania Free-for-all Tournament 6\n",
      "\n",
      "\n",
      "========== Processing c:\\Users\\Acer\\Documents\\skillbans-in-2024-main\\tournament-elo\\Touhou Project Mania Cup 3rd ==========\n"
     ]
    },
    {
     "name": "stderr",
     "output_type": "stream",
     "text": [
      "100%|██████████| 1/1 [00:00<00:00,  3.26it/s]"
     ]
    },
    {
     "name": "stdout",
     "output_type": "stream",
     "text": [
      "Game 564568874 in match 109524678 has no scores.\n"
     ]
    },
    {
     "name": "stderr",
     "output_type": "stream",
     "text": [
      "\n"
     ]
    },
    {
     "name": "stdout",
     "output_type": "stream",
     "text": [
      "Leaderboard saved to c:\\Users\\Acer\\Documents\\skillbans-in-2024-main\\tournament-elo\\Touhou Project Mania Cup 3rd\\Grand Finals_leaderboard.csv\n"
     ]
    },
    {
     "name": "stderr",
     "output_type": "stream",
     "text": [
      "100%|██████████| 3/3 [00:00<00:00,  3.42it/s]\n"
     ]
    },
    {
     "name": "stdout",
     "output_type": "stream",
     "text": [
      "Leaderboard saved to c:\\Users\\Acer\\Documents\\skillbans-in-2024-main\\tournament-elo\\Touhou Project Mania Cup 3rd\\Finals_leaderboard.csv\n"
     ]
    },
    {
     "name": "stderr",
     "output_type": "stream",
     "text": [
      "100%|██████████| 7/7 [00:01<00:00,  3.53it/s]\n"
     ]
    },
    {
     "name": "stdout",
     "output_type": "stream",
     "text": [
      "No beatmap IDs could be extracted from Semifinals_maps.csv, skipping stage.\n"
     ]
    },
    {
     "name": "stderr",
     "output_type": "stream",
     "text": [
      " 19%|█▉        | 3/16 [00:00<00:03,  3.45it/s]"
     ]
    },
    {
     "name": "stdout",
     "output_type": "stream",
     "text": [
      "Game 560324442 in match 108815786 has no scores.\n"
     ]
    },
    {
     "name": "stderr",
     "output_type": "stream",
     "text": [
      " 38%|███▊      | 6/16 [00:01<00:02,  3.52it/s]"
     ]
    },
    {
     "name": "stdout",
     "output_type": "stream",
     "text": [
      "Game 560340431 in match 108818486 has no scores.\n",
      "Game 560341299 in match 108818486 has no scores.\n"
     ]
    },
    {
     "name": "stderr",
     "output_type": "stream",
     "text": [
      " 81%|████████▏ | 13/16 [00:03<00:00,  3.49it/s]"
     ]
    },
    {
     "name": "stdout",
     "output_type": "stream",
     "text": [
      "Game 560442095 in match 108834969 has no scores.\n"
     ]
    },
    {
     "name": "stderr",
     "output_type": "stream",
     "text": [
      "100%|██████████| 16/16 [00:04<00:00,  3.26it/s]\n"
     ]
    },
    {
     "name": "stdout",
     "output_type": "stream",
     "text": [
      "No beatmap IDs could be extracted from Quarterfinals_maps.csv, skipping stage.\n"
     ]
    },
    {
     "name": "stderr",
     "output_type": "stream",
     "text": [
      "  6%|▋         | 1/16 [00:00<00:03,  3.75it/s]"
     ]
    },
    {
     "name": "stdout",
     "output_type": "stream",
     "text": [
      "Game 559604565 in match 108694842 has no scores.\n"
     ]
    },
    {
     "name": "stderr",
     "output_type": "stream",
     "text": [
      " 38%|███▊      | 6/16 [00:01<00:02,  3.46it/s]"
     ]
    },
    {
     "name": "stdout",
     "output_type": "stream",
     "text": [
      "Game 559643462 in match 108701104 has no scores.\n",
      "Game 559645915 in match 108701104 has no scores.\n"
     ]
    },
    {
     "name": "stderr",
     "output_type": "stream",
     "text": [
      "100%|██████████| 16/16 [00:04<00:00,  3.54it/s]\n"
     ]
    },
    {
     "name": "stdout",
     "output_type": "stream",
     "text": [
      "Leaderboard saved to c:\\Users\\Acer\\Documents\\skillbans-in-2024-main\\tournament-elo\\Touhou Project Mania Cup 3rd\\Round of 16_leaderboard.csv\n"
     ]
    },
    {
     "name": "stderr",
     "output_type": "stream",
     "text": [
      " 31%|███▏      | 5/16 [00:01<00:03,  3.59it/s]"
     ]
    },
    {
     "name": "stdout",
     "output_type": "stream",
     "text": [
      "Game 558925484 in match 108580371 has no scores.\n"
     ]
    },
    {
     "name": "stderr",
     "output_type": "stream",
     "text": [
      "100%|██████████| 16/16 [00:04<00:00,  3.68it/s]\n"
     ]
    },
    {
     "name": "stdout",
     "output_type": "stream",
     "text": [
      "Leaderboard saved to c:\\Users\\Acer\\Documents\\skillbans-in-2024-main\\tournament-elo\\Touhou Project Mania Cup 3rd\\Round of 32_leaderboard.csv\n",
      "Finished processing Touhou Project Mania Cup 3rd\n",
      "\n",
      "\n",
      "========== Processing c:\\Users\\Acer\\Documents\\skillbans-in-2024-main\\tournament-elo\\Touhou Project Mania Cup 4th ==========\n"
     ]
    },
    {
     "name": "stderr",
     "output_type": "stream",
     "text": [
      "100%|██████████| 2/2 [00:00<00:00,  3.47it/s]\n"
     ]
    },
    {
     "name": "stdout",
     "output_type": "stream",
     "text": [
      "Leaderboard saved to c:\\Users\\Acer\\Documents\\skillbans-in-2024-main\\tournament-elo\\Touhou Project Mania Cup 4th\\Grand Finals_leaderboard.csv\n"
     ]
    },
    {
     "name": "stderr",
     "output_type": "stream",
     "text": [
      " 25%|██▌       | 1/4 [00:00<00:00,  3.68it/s]"
     ]
    },
    {
     "name": "stdout",
     "output_type": "stream",
     "text": [
      "Game 613836011 in match 117557860 has no scores.\n"
     ]
    },
    {
     "name": "stderr",
     "output_type": "stream",
     "text": [
      " 75%|███████▌  | 3/4 [00:00<00:00,  3.41it/s]"
     ]
    },
    {
     "name": "stdout",
     "output_type": "stream",
     "text": [
      "Game 613905413 in match 117568314 has no scores.\n"
     ]
    },
    {
     "name": "stderr",
     "output_type": "stream",
     "text": [
      "100%|██████████| 4/4 [00:01<00:00,  3.38it/s]\n"
     ]
    },
    {
     "name": "stdout",
     "output_type": "stream",
     "text": [
      "Leaderboard saved to c:\\Users\\Acer\\Documents\\skillbans-in-2024-main\\tournament-elo\\Touhou Project Mania Cup 4th\\Finals_leaderboard.csv\n"
     ]
    },
    {
     "name": "stderr",
     "output_type": "stream",
     "text": [
      " 25%|██▌       | 2/8 [00:00<00:01,  3.60it/s]"
     ]
    },
    {
     "name": "stdout",
     "output_type": "stream",
     "text": [
      "Game 613362858 in match 117485256 has no scores.\n"
     ]
    },
    {
     "name": "stderr",
     "output_type": "stream",
     "text": [
      "100%|██████████| 8/8 [00:02<00:00,  3.60it/s]"
     ]
    },
    {
     "name": "stdout",
     "output_type": "stream",
     "text": [
      "Game 613454032 in match 117499434 has no scores.\n"
     ]
    },
    {
     "name": "stderr",
     "output_type": "stream",
     "text": [
      "\n"
     ]
    },
    {
     "name": "stdout",
     "output_type": "stream",
     "text": [
      "Leaderboard saved to c:\\Users\\Acer\\Documents\\skillbans-in-2024-main\\tournament-elo\\Touhou Project Mania Cup 4th\\Semifinals_leaderboard.csv\n"
     ]
    },
    {
     "name": "stderr",
     "output_type": "stream",
     "text": [
      " 87%|████████▋ | 13/15 [00:03<00:00,  3.07it/s]"
     ]
    },
    {
     "name": "stdout",
     "output_type": "stream",
     "text": [
      "Game 612985524 in match 117427509 has no scores.\n"
     ]
    },
    {
     "name": "stderr",
     "output_type": "stream",
     "text": [
      "100%|██████████| 15/15 [00:04<00:00,  3.10it/s]"
     ]
    },
    {
     "name": "stdout",
     "output_type": "stream",
     "text": [
      "Game 613017972 in match 117432667 has no scores.\n"
     ]
    },
    {
     "name": "stderr",
     "output_type": "stream",
     "text": [
      "\n"
     ]
    },
    {
     "name": "stdout",
     "output_type": "stream",
     "text": [
      "Leaderboard saved to c:\\Users\\Acer\\Documents\\skillbans-in-2024-main\\tournament-elo\\Touhou Project Mania Cup 4th\\Quarterfinals_leaderboard.csv\n"
     ]
    },
    {
     "name": "stderr",
     "output_type": "stream",
     "text": [
      "  7%|▋         | 1/14 [00:00<00:03,  3.69it/s]"
     ]
    },
    {
     "name": "stdout",
     "output_type": "stream",
     "text": [
      "Game 612432557 in match 117342097 has no scores.\n"
     ]
    },
    {
     "name": "stderr",
     "output_type": "stream",
     "text": [
      " 21%|██▏       | 3/14 [00:00<00:02,  3.75it/s]"
     ]
    },
    {
     "name": "stdout",
     "output_type": "stream",
     "text": [
      "Game 612435294 in match 117342696 has no scores.\n"
     ]
    },
    {
     "name": "stderr",
     "output_type": "stream",
     "text": [
      " 57%|█████▋    | 8/14 [00:02<00:01,  3.51it/s]"
     ]
    },
    {
     "name": "stdout",
     "output_type": "stream",
     "text": [
      "Game 612511611 in match 117354498 has no scores.\n"
     ]
    },
    {
     "name": "stderr",
     "output_type": "stream",
     "text": [
      " 71%|███████▏  | 10/14 [00:02<00:01,  3.41it/s]"
     ]
    },
    {
     "name": "stdout",
     "output_type": "stream",
     "text": [
      "Game 612524283 in match 117356697 has no scores.\n"
     ]
    },
    {
     "name": "stderr",
     "output_type": "stream",
     "text": [
      "100%|██████████| 14/14 [00:03<00:00,  3.55it/s]\n"
     ]
    },
    {
     "name": "stdout",
     "output_type": "stream",
     "text": [
      "Leaderboard saved to c:\\Users\\Acer\\Documents\\skillbans-in-2024-main\\tournament-elo\\Touhou Project Mania Cup 4th\\Round of 16_leaderboard.csv\n"
     ]
    },
    {
     "name": "stderr",
     "output_type": "stream",
     "text": [
      " 13%|█▎        | 2/15 [00:00<00:05,  2.24it/s]"
     ]
    },
    {
     "name": "stdout",
     "output_type": "stream",
     "text": [
      "Game 611937034 in match 117265242 has no scores.\n"
     ]
    },
    {
     "name": "stderr",
     "output_type": "stream",
     "text": [
      " 27%|██▋       | 4/15 [00:01<00:03,  3.01it/s]"
     ]
    },
    {
     "name": "stdout",
     "output_type": "stream",
     "text": [
      "Game 611942404 in match 117265968 has no scores.\n"
     ]
    },
    {
     "name": "stderr",
     "output_type": "stream",
     "text": [
      " 93%|█████████▎| 14/15 [00:04<00:00,  3.53it/s]"
     ]
    },
    {
     "name": "stdout",
     "output_type": "stream",
     "text": [
      "Game 612042154 in match 117281560 has no scores.\n"
     ]
    },
    {
     "name": "stderr",
     "output_type": "stream",
     "text": [
      "100%|██████████| 15/15 [00:04<00:00,  3.38it/s]\n"
     ]
    },
    {
     "name": "stdout",
     "output_type": "stream",
     "text": [
      "Leaderboard saved to c:\\Users\\Acer\\Documents\\skillbans-in-2024-main\\tournament-elo\\Touhou Project Mania Cup 4th\\Round of 32_leaderboard.csv\n",
      "Finished processing Touhou Project Mania Cup 4th\n",
      "All tournaments processed.\n"
     ]
    }
   ],
   "source": [
    "import os\n",
    "import re\n",
    "import pandas as pd\n",
    "import numpy as np\n",
    "import requests\n",
    "from tqdm import tqdm\n",
    "import time\n",
    "\n",
    "OSU_API_KEY = \"839b8920c801ccdc4f56a01f533c941015e35d7f\"  # <-- PUT YOUR API KEY HERE\n",
    "STAGE_NAMES = [\n",
    "    'Grand Finals', 'Finals', 'Semifinals', 'Quarterfinals',  \"Play-off 1\", \"Play-off 2\", \"Playoffs\",\n",
    "    'Round of 16', 'Round of 32', 'Qualifiers'\n",
    "]\n",
    "POW = 30  # For 4K OSU\n",
    "\n",
    "def extract_id(cell, kind=\"map\"):\n",
    "    if pd.isna(cell):\n",
    "        return None\n",
    "    s = str(cell).strip()\n",
    "    if s.isdigit():\n",
    "        return s\n",
    "    try:\n",
    "        if float(s).is_integer():\n",
    "            return str(int(float(s)))\n",
    "    except Exception:\n",
    "        pass\n",
    "    if kind == \"map\":\n",
    "        m = re.search(r'#mania/(\\d+)', s)\n",
    "        if m:\n",
    "            return m.group(1)\n",
    "        m2 = re.search(r'/(\\d+)$', s)\n",
    "        if m2:\n",
    "            return m2.group(1)\n",
    "    elif kind == \"match\":\n",
    "        m = re.search(r'/matches/(\\d+)', s)\n",
    "        if m:\n",
    "            return m.group(1)\n",
    "    return None\n",
    "\n",
    "def load_match_links(stage, TOURNEY_DIR):\n",
    "    path = os.path.join(TOURNEY_DIR, f\"{stage}_matches.csv\")\n",
    "    if not os.path.exists(path):\n",
    "        return []\n",
    "    df = pd.read_csv(path)\n",
    "    links = df.iloc[:,0].dropna().tolist()\n",
    "    match_ids = []\n",
    "    for cell in links:\n",
    "        mid = extract_id(cell, kind=\"match\")\n",
    "        if mid:\n",
    "            match_ids.append(mid)\n",
    "    return match_ids\n",
    "\n",
    "def get_match_scores(match_id):\n",
    "    url = f\"https://osu.ppy.sh/api/get_match?k={OSU_API_KEY}&mp={match_id}\"\n",
    "    try:\n",
    "        resp = requests.get(url, timeout=20)\n",
    "        data = resp.json()\n",
    "        if not isinstance(data, dict):\n",
    "            print(f\"Non-dict response for match {match_id}: {data}\")\n",
    "            return []\n",
    "        if \"games\" not in data:\n",
    "            print(f\"No 'games' in match {match_id} response: {data}\")\n",
    "            return []\n",
    "        scores = []\n",
    "        for g in data[\"games\"]:\n",
    "            map_id = g.get(\"beatmap_id\", None)\n",
    "            game_scores = g.get(\"scores\", [])\n",
    "            if not game_scores:\n",
    "                print(f\"Game {g.get('game_id')} in match {match_id} has no scores.\")\n",
    "            for s in game_scores:\n",
    "                scores.append({\n",
    "                    \"user_id\": s[\"user_id\"],\n",
    "                    \"map_id\": map_id,\n",
    "                    \"score\": int(s[\"score\"]),\n",
    "                    \"match_id\": match_id\n",
    "                })\n",
    "        return scores\n",
    "    except Exception as e:\n",
    "        print(f\"Failed to fetch match {match_id}: {e}\")\n",
    "    return []\n",
    "\n",
    "def get_username(user_id, username_cache):\n",
    "    if user_id in username_cache:\n",
    "        return username_cache[user_id]\n",
    "    url = f\"https://osu.ppy.sh/api/get_user?k={OSU_API_KEY}&u={user_id}\"\n",
    "    try:\n",
    "        resp = requests.get(url, timeout=10)\n",
    "        data = resp.json()\n",
    "        if isinstance(data, list) and data and \"username\" in data[0]:\n",
    "            username = data[0][\"username\"]\n",
    "        else:\n",
    "            username = \"Banned or Unavailable\"\n",
    "    except Exception as e:\n",
    "        print(f\"Failed to fetch username for {user_id}: {e}\")\n",
    "        username = \"Banned or Unavailable\"\n",
    "    username_cache[user_id] = username\n",
    "    return username\n",
    "\n",
    "def process_tournament(TOURNEY_DIR):\n",
    "    username_cache = {}\n",
    "    print(f\"\\n\\n========== Processing {TOURNEY_DIR} ==========\")\n",
    "    for stage in STAGE_NAMES:\n",
    "        match_ids = load_match_links(stage, TOURNEY_DIR)\n",
    "        if not match_ids:\n",
    "            # print(f\"No matches found for {stage}, skipping.\")\n",
    "            continue\n",
    "        # print(match_ids)\n",
    "        # print(f\"Processing stage: {stage} ({len(match_ids)} matches)\")\n",
    "\n",
    "        all_scores = []\n",
    "        for match_id in tqdm(match_ids):\n",
    "            scores = get_match_scores(match_id)\n",
    "            all_scores.extend(scores)\n",
    "            # print(f\"Fetched {len(scores)} scores for match {match_id}\")\n",
    "            # print(scores)\n",
    "\n",
    "        if not all_scores:\n",
    "            # print(f\"No scores found for {stage}, skipping.\")\n",
    "            continue\n",
    "\n",
    "        scores_df = pd.DataFrame(all_scores)\n",
    "        scores_df = scores_df[scores_df[\"score\"] > 0]\n",
    "        if scores_df.empty:\n",
    "            # print(f\"No nonzero scores for {stage}, skipping.\")\n",
    "            continue\n",
    "\n",
    "        mappool_path = os.path.join(TOURNEY_DIR, f\"{stage}_maps.csv\")\n",
    "        if not os.path.exists(mappool_path):\n",
    "            # print(f\"No mappool file for {stage}, skipping.\")\n",
    "            continue\n",
    "        mappool_df = pd.read_csv(mappool_path)\n",
    "\n",
    "        mappool_ids = set()\n",
    "        for cell in mappool_df.iloc[:,0].dropna():\n",
    "            mapid = extract_id(cell, kind=\"map\")\n",
    "            if mapid:\n",
    "                mappool_ids.add(mapid)\n",
    "\n",
    "        # print(f\"Extracted {len(mappool_ids)} mappool IDs from {stage}_maps.csv\")\n",
    "\n",
    "        if not mappool_ids:\n",
    "            print(f\"No beatmap IDs could be extracted from {stage}_maps.csv, skipping stage.\")\n",
    "            continue\n",
    "\n",
    "        scores_df = scores_df[scores_df[\"map_id\"].astype(str).isin(mappool_ids)]\n",
    "        # print(scores_df)\n",
    "\n",
    "        scores_df_path = os.path.join(TOURNEY_DIR, f\"{stage}_scores.csv\")\n",
    "        scores_df.to_csv(scores_df_path, index=False)\n",
    "\n",
    "        if scores_df.empty:\n",
    "            # print(f\"No mappool maps played for {stage}, skipping.\")\n",
    "            continue\n",
    "\n",
    "        medians = scores_df.groupby(\"map_id\")[\"score\"].median()\n",
    "        player_pscores = {}\n",
    "        player_maps_played = {}\n",
    "        player_total_possible_maps = {}\n",
    "\n",
    "        # print(f\"Calculated medians for {len(medians)} maps:\")\n",
    "        # print(medians)\n",
    "        for player in scores_df[\"user_id\"].unique():\n",
    "            player_df = scores_df[scores_df[\"user_id\"] == player]\n",
    "            n_maps_played = len(player_df)\n",
    "            n_unique_maps_played = player_df[\"map_id\"].nunique()\n",
    "            matches_played = player_df[\"match_id\"].unique()\n",
    "            maps_in_matches = scores_df[scores_df[\"match_id\"].isin(matches_played)][[\"match_id\", \"map_id\"]].drop_duplicates()[\"map_id\"]\n",
    "            n_possible_map_plays = len(maps_in_matches)\n",
    "            player_maps_played[player] = n_maps_played\n",
    "            player_total_possible_maps[player] = n_possible_map_plays\n",
    "\n",
    "            ratio_terms = []\n",
    "            for _, row in player_df.iterrows():\n",
    "                s = row[\"score\"]\n",
    "                m = medians[row[\"map_id\"]]\n",
    "                ratio = (s / m) ** POW if m > 0 else 0\n",
    "                ratio_terms.append(ratio)\n",
    "            if not ratio_terms:\n",
    "                continue\n",
    "            part1 = np.mean(ratio_terms)\n",
    "\n",
    "            N_js = []\n",
    "            for match_id in matches_played:\n",
    "                match_df = scores_df[scores_df[\"match_id\"] == match_id]\n",
    "                plays_per_player = match_df.groupby(\"user_id\")[\"map_id\"].count()\n",
    "                mean_plays = plays_per_player.mean()\n",
    "                N_js.append(mean_plays)\n",
    "            if N_js:\n",
    "                normalization = (n_maps_played / sum(N_js)) ** (1/3)\n",
    "            else:\n",
    "                normalization = 1\n",
    "\n",
    "            pscore = part1 * normalization\n",
    "            player_pscores[player] = pscore\n",
    "\n",
    "        out_list = []\n",
    "        for pid, score in player_pscores.items():\n",
    "            name = get_username(pid, username_cache)\n",
    "            maps_played = f\"{player_maps_played[pid]}/{player_total_possible_maps[pid]}\"\n",
    "            out_list.append({\n",
    "                \"Player ID\": pid,\n",
    "                \"Player Name\": name,\n",
    "                \"pScore\": score,\n",
    "                \"Maps Played\": maps_played\n",
    "            })\n",
    "        out_df = pd.DataFrame(out_list)\n",
    "        out_df = out_df.sort_values(\"pScore\", ascending=False)\n",
    "        out_path = os.path.join(TOURNEY_DIR, f\"{stage}_leaderboard.csv\")\n",
    "        out_df.to_csv(out_path, index=False)\n",
    "        print(f\"Leaderboard saved to {out_path}\")\n",
    "\n",
    "if __name__ == \"__main__\":\n",
    "    ROOT_DIR = os.getcwd()  # or specify a path, e.g. \"osu_tournaments\"\n",
    "    for folder in os.listdir(ROOT_DIR):\n",
    "        path = os.path.join(ROOT_DIR, folder)\n",
    "        if not os.path.isdir(path):\n",
    "            continue\n",
    "        if folder == \"manual_work\":\n",
    "            continue\n",
    "        # Add further checks if your tournament folders have a pattern (e.g. folder name starts with a year, etc)\n",
    "        process_tournament(path)\n",
    "        print(f\"Finished processing {folder}\")\n",
    "    print(\"All tournaments processed.\")"
   ]
  },
  {
   "cell_type": "markdown",
   "id": "9ca36877",
   "metadata": {},
   "source": [
    "# need to remove ALL SVS so svse is ignored as well"
   ]
  },
  {
   "cell_type": "markdown",
   "id": "f9ed65ec",
   "metadata": {},
   "source": [
    "# looks like this works... double checked with MWC 4k finals already and it seems like pscore is the same :D, can start extending this to all stages\n",
    "\n",
    "# though some players can be extreme outliers...."
   ]
  },
  {
   "cell_type": "markdown",
   "id": "2f0f89a5",
   "metadata": {},
   "source": [
    "takes 23 minutes to run this block"
   ]
  },
  {
   "cell_type": "code",
   "execution_count": null,
   "id": "cc5a8c35",
   "metadata": {},
   "outputs": [
    {
     "data": {
      "text/html": [
       "<div>\n",
       "<style scoped>\n",
       "    .dataframe tbody tr th:only-of-type {\n",
       "        vertical-align: middle;\n",
       "    }\n",
       "\n",
       "    .dataframe tbody tr th {\n",
       "        vertical-align: top;\n",
       "    }\n",
       "\n",
       "    .dataframe thead th {\n",
       "        text-align: right;\n",
       "    }\n",
       "</style>\n",
       "<table border=\"1\" class=\"dataframe\">\n",
       "  <thead>\n",
       "    <tr style=\"text-align: right;\">\n",
       "      <th></th>\n",
       "      <th>Player ID</th>\n",
       "      <th>Player Name</th>\n",
       "      <th>pScore</th>\n",
       "      <th>weighted_pScore</th>\n",
       "      <th>Maps Played Num</th>\n",
       "      <th>Tier</th>\n",
       "      <th>Weight</th>\n",
       "    </tr>\n",
       "  </thead>\n",
       "  <tbody>\n",
       "    <tr>\n",
       "      <th>0</th>\n",
       "      <td>14892447</td>\n",
       "      <td>JayLye</td>\n",
       "      <td>1.497120e+00</td>\n",
       "      <td>1.272552e+00</td>\n",
       "      <td>10</td>\n",
       "      <td>A</td>\n",
       "      <td>0.85</td>\n",
       "    </tr>\n",
       "    <tr>\n",
       "      <th>1</th>\n",
       "      <td>14177626</td>\n",
       "      <td>charlie72</td>\n",
       "      <td>1.488531e+00</td>\n",
       "      <td>1.265251e+00</td>\n",
       "      <td>16</td>\n",
       "      <td>A</td>\n",
       "      <td>0.85</td>\n",
       "    </tr>\n",
       "    <tr>\n",
       "      <th>2</th>\n",
       "      <td>15179858</td>\n",
       "      <td>Tonels</td>\n",
       "      <td>1.391576e+00</td>\n",
       "      <td>1.182839e+00</td>\n",
       "      <td>15</td>\n",
       "      <td>A</td>\n",
       "      <td>0.85</td>\n",
       "    </tr>\n",
       "    <tr>\n",
       "      <th>3</th>\n",
       "      <td>27540621</td>\n",
       "      <td>angela202133</td>\n",
       "      <td>1.359491e+00</td>\n",
       "      <td>1.155567e+00</td>\n",
       "      <td>15</td>\n",
       "      <td>A</td>\n",
       "      <td>0.85</td>\n",
       "    </tr>\n",
       "    <tr>\n",
       "      <th>4</th>\n",
       "      <td>26233321</td>\n",
       "      <td>[LS]Vixile</td>\n",
       "      <td>1.326240e+00</td>\n",
       "      <td>1.127304e+00</td>\n",
       "      <td>9</td>\n",
       "      <td>A</td>\n",
       "      <td>0.85</td>\n",
       "    </tr>\n",
       "    <tr>\n",
       "      <th>...</th>\n",
       "      <td>...</td>\n",
       "      <td>...</td>\n",
       "      <td>...</td>\n",
       "      <td>...</td>\n",
       "      <td>...</td>\n",
       "      <td>...</td>\n",
       "      <td>...</td>\n",
       "    </tr>\n",
       "    <tr>\n",
       "      <th>6271</th>\n",
       "      <td>11799103</td>\n",
       "      <td>yoppy-yugen</td>\n",
       "      <td>5.679357e-01</td>\n",
       "      <td>6.247293e-01</td>\n",
       "      <td>4</td>\n",
       "      <td>S</td>\n",
       "      <td>1.10</td>\n",
       "    </tr>\n",
       "    <tr>\n",
       "      <th>6272</th>\n",
       "      <td>32901596</td>\n",
       "      <td>MSMS33</td>\n",
       "      <td>5.144673e-01</td>\n",
       "      <td>5.659140e-01</td>\n",
       "      <td>3</td>\n",
       "      <td>S</td>\n",
       "      <td>1.10</td>\n",
       "    </tr>\n",
       "    <tr>\n",
       "      <th>6273</th>\n",
       "      <td>16191180</td>\n",
       "      <td>Shice2566</td>\n",
       "      <td>4.943838e-01</td>\n",
       "      <td>5.438222e-01</td>\n",
       "      <td>2</td>\n",
       "      <td>S</td>\n",
       "      <td>1.10</td>\n",
       "    </tr>\n",
       "    <tr>\n",
       "      <th>6274</th>\n",
       "      <td>17753122</td>\n",
       "      <td>invadey</td>\n",
       "      <td>3.644913e-01</td>\n",
       "      <td>4.009404e-01</td>\n",
       "      <td>1</td>\n",
       "      <td>S</td>\n",
       "      <td>1.10</td>\n",
       "    </tr>\n",
       "    <tr>\n",
       "      <th>6275</th>\n",
       "      <td>10817494</td>\n",
       "      <td>[Crz]Nickname</td>\n",
       "      <td>7.752765e-08</td>\n",
       "      <td>8.528042e-08</td>\n",
       "      <td>1</td>\n",
       "      <td>S</td>\n",
       "      <td>1.10</td>\n",
       "    </tr>\n",
       "  </tbody>\n",
       "</table>\n",
       "<p>6276 rows × 7 columns</p>\n",
       "</div>"
      ],
      "text/plain": [
       "      Player ID    Player Name        pScore  weighted_pScore  \\\n",
       "0      14892447         JayLye  1.497120e+00     1.272552e+00   \n",
       "1      14177626      charlie72  1.488531e+00     1.265251e+00   \n",
       "2      15179858         Tonels  1.391576e+00     1.182839e+00   \n",
       "3      27540621   angela202133  1.359491e+00     1.155567e+00   \n",
       "4      26233321     [LS]Vixile  1.326240e+00     1.127304e+00   \n",
       "...         ...            ...           ...              ...   \n",
       "6271   11799103    yoppy-yugen  5.679357e-01     6.247293e-01   \n",
       "6272   32901596         MSMS33  5.144673e-01     5.659140e-01   \n",
       "6273   16191180      Shice2566  4.943838e-01     5.438222e-01   \n",
       "6274   17753122        invadey  3.644913e-01     4.009404e-01   \n",
       "6275   10817494  [Crz]Nickname  7.752765e-08     8.528042e-08   \n",
       "\n",
       "      Maps Played Num Tier  Weight  \n",
       "0                  10    A    0.85  \n",
       "1                  16    A    0.85  \n",
       "2                  15    A    0.85  \n",
       "3                  15    A    0.85  \n",
       "4                   9    A    0.85  \n",
       "...               ...  ...     ...  \n",
       "6271                4    S    1.10  \n",
       "6272                3    S    1.10  \n",
       "6273                2    S    1.10  \n",
       "6274                1    S    1.10  \n",
       "6275                1    S    1.10  \n",
       "\n",
       "[6276 rows x 7 columns]"
      ]
     },
     "metadata": {},
     "output_type": "display_data"
    },
    {
     "name": "stdout",
     "output_type": "stream",
     "text": [
      "Combined leaderboard with tournament weighting saved as combined_player_weighted_stats.csv\n"
     ]
    }
   ],
   "source": [
    "import os\n",
    "import pandas as pd\n",
    "import numpy as np\n",
    "\n",
    "# 1. Tournament folder -> tier mapping (fill this in with your real folder names and tiers)\n",
    "TOURNAMENT_TIERS = {\n",
    "    \"4 Digit osumania World Cup 3\": \"A\",\n",
    "    \"4 Digit osumania World Cup 4\": \"A\",\n",
    "    \"4 Digit osumania World Cup 2024\": \"A\",\n",
    "    \"osumania 4K World Cup 2021\": \"S\",\n",
    "    \"osumania 4K World Cup 2022\": \"S\",\n",
    "    \"osumania 4K World Cup 2023\": \"S\",\n",
    "    \"osumania 4K World Cup 2024\": \"S\",\n",
    "    \"osumania 4K Chinese National Cup 2022\": \"A\",\n",
    "    \"osumania 4K Chinese National Cup 2023\": \"A\",\n",
    "    \"osumania 4K Chinese National Cup 2024\": \"A\",\n",
    "    \"osumania 4K Indonesia Cup 2022\": \"A\",\n",
    "    \"osumania Malaysia Tournament 4\": \"A\",\n",
    "    \"osumania LN Tournament 3\": \"S\",\n",
    "    \"GB Cup 2023 Autumn\": \"A\",\n",
    "    \"GB Cup 2024 Spring\": \"S\",\n",
    "    \"JHC 2024\": \"A\",\n",
    "    \"Meow Mania\": \"S\",\n",
    "    \"Speed of Light 2 Lucha Libre Edition\": \"S\",\n",
    "    \"Speed of Light 3\": \"S\",\n",
    "    \"Springtime Osumania Free-for-all Tournament 5\": \"S\",\n",
    "    \"Springtime Osumania Free-for-all Tournament 6\": \"S\",\n",
    "    \"Touhou Project Mania Cup 3rd\": \"A\",\n",
    "    \"Touhou Project Mania Cup 4th\": \"S\",\n",
    "}\n",
    "\n",
    "def weighted_mean(group):\n",
    "    return np.average(group[\"pScore\"], weights=group[\"Weight\"])\n",
    "\n",
    "# 2. Tier to numerical weight mapping\n",
    "TIER_WEIGHTS = {\"S\": 1.1, \"A\": 0.85, \"B\": 0.7, \"C\": 0.6}\n",
    "\n",
    "def iqr_mean(series):\n",
    "    q1 = series.quantile(0.25)\n",
    "    q3 = series.quantile(0.75)\n",
    "    iqr_values = series[(series >= q1) & (series <= q3)]\n",
    "    if not iqr_values.empty:\n",
    "        return iqr_values.mean()\n",
    "    else:\n",
    "        return np.nan\n",
    "\n",
    "ROOT_DIR = os.getcwd()  # Or set this to your tournaments root directory\n",
    "all_pscores = []\n",
    "\n",
    "for folder in os.listdir(ROOT_DIR):\n",
    "    folder_path = os.path.join(ROOT_DIR, folder)\n",
    "    if not os.path.isdir(folder_path) or folder == \"manual_work\":\n",
    "        continue\n",
    "    tier = TOURNAMENT_TIERS.get(folder, \"C\")\n",
    "    weight = TIER_WEIGHTS.get(tier, 1.0)\n",
    "    for file in os.listdir(folder_path):\n",
    "        if file.endswith(\"_leaderboard.csv\"):\n",
    "            csv_path = os.path.join(folder_path, file)\n",
    "            df = pd.read_csv(csv_path)\n",
    "            required = {\"Player ID\", \"Player Name\", \"pScore\", \"Maps Played\"}\n",
    "            if not required.issubset(df.columns):\n",
    "                print(f\"Skipping {csv_path} due to missing columns: {required - set(df.columns)}\")\n",
    "                continue\n",
    "            df[\"Maps Played Num\"] = df[\"Maps Played\"].astype(str).str.extract(r\"^(\\d+)\")\n",
    "            df[\"Maps Played Num\"] = pd.to_numeric(df[\"Maps Played Num\"], errors=\"coerce\").fillna(0).astype(int)\n",
    "            df[\"Tier\"] = tier\n",
    "            df[\"Weight\"] = weight\n",
    "            # turn pscore to float and add weighted_pScore column\n",
    "            df[\"weighted_pScore\"] = df[\"pScore\"] * df[\"Weight\"]\n",
    "            all_pscores.append(df[[\"Player ID\", \"Player Name\", \"pScore\", \"weighted_pScore\", \"Maps Played Num\", \"Tier\", \"Weight\"]])\n",
    "            # #drop columns that are not needed for the final summary\n",
    "            # all_pscores = all_pscores.drop(columns=[\"pscore\", \"Weight\"])\n",
    "\n",
    "if all_pscores:\n",
    "    combined = pd.concat(all_pscores, ignore_index=True)\n",
    "    display(combined)\n",
    "    # Weighted mean pScore\n",
    "\n",
    "    summary = (\n",
    "        combined.groupby([\"Player ID\", \"Player Name\"], as_index=False)\n",
    "        .agg(\n",
    "            median_pScore=(\"weighted_pScore\", \"median\"),\n",
    "            iqr_mean_pScore=(\"weighted_pScore\", iqr_mean),\n",
    "            total_maps_played=(\"Maps Played Num\", \"sum\"),\n",
    "            num_appearances=(\"pScore\", \"count\")\n",
    "        )\n",
    "        .sort_values(\"median_pScore\", ascending=False)\n",
    "    )\n",
    "\n",
    "    summary = summary[summary[\"num_appearances\"] > 7] # roughly 3-4 tournaments played, use number of tournament appreances as a filter instead TODO\n",
    "    summary.to_csv(\"combined_player_weighted_stats.csv\", index=False)\n",
    "    print(\"Combined leaderboard with tournament weighting saved as combined_player_weighted_stats.csv\")\n",
    "else:\n",
    "    print(\"No leaderboard files found.\")"
   ]
  },
  {
   "cell_type": "code",
   "execution_count": 29,
   "id": "f7b50a27",
   "metadata": {},
   "outputs": [
    {
     "name": "stdout",
     "output_type": "stream",
     "text": [
      "Results saved to pscore_search_13385865.csv\n"
     ]
    }
   ],
   "source": [
    "import os\n",
    "import pandas as pd\n",
    "\n",
    "def find_player_pscores(player_id, root_dir=None, save_csv=True):\n",
    "    if root_dir is None:\n",
    "        root_dir = os.getcwd()\n",
    "    player_rows = []\n",
    "\n",
    "    for folder in os.listdir(root_dir):\n",
    "        folder_path = os.path.join(root_dir, folder)\n",
    "        if not os.path.isdir(folder_path) or folder == \"manual_work\":\n",
    "            continue\n",
    "        for file in os.listdir(folder_path):\n",
    "            if file.endswith(\"_leaderboard.csv\"):\n",
    "                csv_path = os.path.join(folder_path, file)\n",
    "                try:\n",
    "                    df = pd.read_csv(csv_path)\n",
    "                except Exception as e:\n",
    "                    print(f\"Error reading {csv_path}: {e}\")\n",
    "                    continue\n",
    "                if \"Player ID\" not in df.columns:\n",
    "                    continue\n",
    "                # Find player by ID (may need to str for match)\n",
    "                rows = df[df[\"Player ID\"].astype(str) == str(player_id)].copy()\n",
    "                if not rows.empty:\n",
    "                    # Extract stage name from file name (e.g. \"Finals_leaderboard.csv\" -> \"Finals\")\n",
    "                    stage = file.replace(\"_leaderboard.csv\", \"\")\n",
    "                    rows[\"Tournament\"] = folder\n",
    "                    rows[\"Stage\"] = stage\n",
    "                    player_rows.append(rows)\n",
    "    \n",
    "    if not player_rows:\n",
    "        print(f\"No results found for player ID {player_id}.\")\n",
    "        return pd.DataFrame()\n",
    "    \n",
    "    result = pd.concat(player_rows, ignore_index=True)\n",
    "    # Reorder for clarity\n",
    "    cols = [\"Tournament\", \"Stage\", \"Player ID\", \"Player Name\", \"pScore\", \"Maps Played\"]\n",
    "    result = result[[col for col in cols if col in result.columns]]\n",
    "    # Optionally save as CSV\n",
    "    if save_csv:\n",
    "        out_csv = f\"pscore_search_{player_id}.csv\"\n",
    "        result.to_csv(out_csv, index=False)\n",
    "        print(f\"Results saved to {out_csv}\")\n",
    "    return result\n",
    "\n",
    "# Example usage:\n",
    "result_df = find_player_pscores(player_id=13385865)\n"
   ]
  },
  {
   "cell_type": "code",
   "execution_count": null,
   "id": "9888b6d1",
   "metadata": {},
   "outputs": [],
   "source": []
  }
 ],
 "metadata": {
  "kernelspec": {
   "display_name": "Python 3",
   "language": "python",
   "name": "python3"
  },
  "language_info": {
   "codemirror_mode": {
    "name": "ipython",
    "version": 3
   },
   "file_extension": ".py",
   "mimetype": "text/x-python",
   "name": "python",
   "nbconvert_exporter": "python",
   "pygments_lexer": "ipython3",
   "version": "3.10.7"
  }
 },
 "nbformat": 4,
 "nbformat_minor": 5
}
